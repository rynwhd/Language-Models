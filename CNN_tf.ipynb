{
  "nbformat": 4,
  "nbformat_minor": 0,
  "metadata": {
    "colab": {
      "provenance": [],
      "authorship_tag": "ABX9TyPxCxePDTNtHZ7i5j9CyJxA",
      "include_colab_link": true
    },
    "kernelspec": {
      "name": "python3",
      "display_name": "Python 3"
    },
    "language_info": {
      "name": "python"
    }
  },
  "cells": [
    {
      "cell_type": "markdown",
      "metadata": {
        "id": "view-in-github",
        "colab_type": "text"
      },
      "source": [
        "<a href=\"https://colab.research.google.com/github/rynwhd/Language-Models/blob/main/CNN_tf.ipynb\" target=\"_parent\"><img src=\"https://colab.research.google.com/assets/colab-badge.svg\" alt=\"Open In Colab\"/></a>"
      ]
    },
    {
      "cell_type": "code",
      "execution_count": 17,
      "metadata": {
        "colab": {
          "base_uri": "https://localhost:8080/"
        },
        "id": "8FJ6W3baSOsx",
        "outputId": "5a59020a-949c-4449-9fed-6ab0ec05dce3"
      },
      "outputs": [
        {
          "output_type": "stream",
          "name": "stdout",
          "text": [
            "File ‘bbc_text_cls.csv’ already there; not retrieving.\n",
            "\n"
          ]
        }
      ],
      "source": [
        "!wget -nc https://lazyprogrammer.me/course_files/nlp/bbc_text_cls.csv"
      ]
    },
    {
      "cell_type": "code",
      "source": [
        "import numpy as np\n",
        "import pandas as pd\n",
        "import tensorflow as tf\n",
        "import matplotlib.pyplot as plt\n",
        "from sklearn.model_selection import train_test_split\n",
        "\n",
        "from tensorflow.keras.preprocessing.text import Tokenizer\n",
        "from tensorflow.keras.preprocessing.sequence import pad_sequences\n",
        "from tensorflow.keras.layers import Dense,Input,GlobalMaxPooling1D, Conv1D, MaxPooling1D,Embedding\n",
        "from tensorflow.keras.models import Model\n",
        "from tensorflow.keras.losses import SparseCategoricalCrossentropy"
      ],
      "metadata": {
        "id": "QD_FC7DUaaQ0"
      },
      "execution_count": 18,
      "outputs": []
    },
    {
      "cell_type": "code",
      "source": [
        "df=pd.read_csv('bbc_text_cls.csv')"
      ],
      "metadata": {
        "id": "6Q4g0Kq0aaWv"
      },
      "execution_count": 19,
      "outputs": []
    },
    {
      "cell_type": "code",
      "source": [
        "df['targets']=df['labels'].astype('category').cat.codes"
      ],
      "metadata": {
        "id": "qpn0DuAXaaZ2"
      },
      "execution_count": 20,
      "outputs": []
    },
    {
      "cell_type": "code",
      "source": [
        "K=df['targets'].max()+1"
      ],
      "metadata": {
        "id": "IeqrDpyoaacd"
      },
      "execution_count": 21,
      "outputs": []
    },
    {
      "cell_type": "code",
      "source": [
        "df_train,df_test=train_test_split(df,test_size=0.3)"
      ],
      "metadata": {
        "id": "5H2tFuMEaafU"
      },
      "execution_count": 22,
      "outputs": []
    },
    {
      "cell_type": "code",
      "source": [
        "MAX_VOCAB_SIZE=2000\n",
        "tokenizer=Tokenizer(num_words=MAX_VOCAB_SIZE)\n",
        "tokenizer.fit_on_texts(df_train['text'])\n",
        "sequences_train=tokenizer.texts_to_sequences(df_train['text'])\n",
        "sequences_test=tokenizer.texts_to_sequences(df_test['text'])"
      ],
      "metadata": {
        "id": "EogNi1xOaah7"
      },
      "execution_count": 23,
      "outputs": []
    },
    {
      "cell_type": "code",
      "source": [
        "word2idx=tokenizer.word_index\n",
        "V=len(word2idx)"
      ],
      "metadata": {
        "id": "F7GIi2aUaak0"
      },
      "execution_count": 34,
      "outputs": []
    },
    {
      "cell_type": "code",
      "source": [
        "data_train=pad_sequences(sequences_train)"
      ],
      "metadata": {
        "id": "jDYLrdfXoR4Z"
      },
      "execution_count": 25,
      "outputs": []
    },
    {
      "cell_type": "code",
      "source": [
        "data_train.shape"
      ],
      "metadata": {
        "colab": {
          "base_uri": "https://localhost:8080/"
        },
        "id": "P7ThqiidoR61",
        "outputId": "6ca7cad7-65d2-4bad-c965-7100c1ad1f83"
      },
      "execution_count": 26,
      "outputs": [
        {
          "output_type": "execute_result",
          "data": {
            "text/plain": [
              "(1557, 3486)"
            ]
          },
          "metadata": {},
          "execution_count": 26
        }
      ]
    },
    {
      "cell_type": "code",
      "source": [
        "data_train"
      ],
      "metadata": {
        "colab": {
          "base_uri": "https://localhost:8080/"
        },
        "id": "kvUTbdQjoiV6",
        "outputId": "880ec3ea-851e-45eb-8dd2-cea953116377"
      },
      "execution_count": 27,
      "outputs": [
        {
          "output_type": "execute_result",
          "data": {
            "text/plain": [
              "array([[   0,    0,    0, ..., 1113,    2,  192],\n",
              "       [   0,    0,    0, ...,  440,  630, 1114],\n",
              "       [   0,    0,    0, ...,   73,   73,  232],\n",
              "       ...,\n",
              "       [   0,    0,    0, ...,    1,  381,    3],\n",
              "       [   0,    0,    0, ...,   20,   11,   30],\n",
              "       [   0,    0,    0, ...,    1,  564,  237]], dtype=int32)"
            ]
          },
          "metadata": {},
          "execution_count": 27
        }
      ]
    },
    {
      "cell_type": "code",
      "source": [
        "T=data_train.shape[1]"
      ],
      "metadata": {
        "id": "ldE6AO3moR9x"
      },
      "execution_count": 28,
      "outputs": []
    },
    {
      "cell_type": "code",
      "source": [
        "data_test=pad_sequences(sequences_test,maxlen=T)"
      ],
      "metadata": {
        "id": "uX-f3GdWoSCN"
      },
      "execution_count": 29,
      "outputs": []
    },
    {
      "cell_type": "code",
      "source": [
        "data_test.shape"
      ],
      "metadata": {
        "colab": {
          "base_uri": "https://localhost:8080/"
        },
        "id": "0-Lf4jwboSDJ",
        "outputId": "fe61d490-e1aa-4cbb-f083-8daf8f7b20f6"
      },
      "execution_count": 31,
      "outputs": [
        {
          "output_type": "execute_result",
          "data": {
            "text/plain": [
              "(668, 3486)"
            ]
          },
          "metadata": {},
          "execution_count": 31
        }
      ]
    },
    {
      "cell_type": "code",
      "source": [
        "D=50\n",
        "i=Input(shape=(T,))\n",
        "x=Embedding(V+1,D)(i)\n",
        "x=Conv1D(32,3,activation='relu')(x)\n",
        "x=GlobalMaxPooling1D()(x)\n",
        "x=Dense(K)(x)"
      ],
      "metadata": {
        "id": "TEvBwdhToSFh"
      },
      "execution_count": 35,
      "outputs": []
    },
    {
      "cell_type": "code",
      "source": [
        "model=Model(i,x)"
      ],
      "metadata": {
        "id": "HGz54o32oSIY"
      },
      "execution_count": 36,
      "outputs": []
    },
    {
      "cell_type": "code",
      "source": [
        "model.compile(\n",
        "    loss=SparseCategoricalCrossentropy(from_logits=True),\n",
        "    optimizer='adam',\n",
        "    metrics=['accuracy']\n",
        ")"
      ],
      "metadata": {
        "id": "vmDJgsQgoSLQ"
      },
      "execution_count": 37,
      "outputs": []
    },
    {
      "cell_type": "code",
      "source": [
        "r=model.fit(\n",
        "    data_train,\n",
        "    df_train['targets'],\n",
        "    epochs=50,\n",
        "    validation_data=(data_test,df_test['targets'])\n",
        ")"
      ],
      "metadata": {
        "colab": {
          "base_uri": "https://localhost:8080/"
        },
        "id": "GdCViX9uzW6O",
        "outputId": "13defb82-74e1-4c3c-95c7-64b0ca9d17e3"
      },
      "execution_count": null,
      "outputs": [
        {
          "output_type": "stream",
          "name": "stdout",
          "text": [
            "Epoch 1/50\n",
            "49/49 [==============================] - 13s 249ms/step - loss: 1.5659 - accuracy: 0.3661 - val_loss: 1.5035 - val_accuracy: 0.5269\n",
            "Epoch 2/50\n",
            "49/49 [==============================] - 11s 216ms/step - loss: 1.3442 - accuracy: 0.7097 - val_loss: 1.1994 - val_accuracy: 0.7485\n",
            "Epoch 3/50\n",
            "49/49 [==============================] - 10s 213ms/step - loss: 0.9027 - accuracy: 0.8741 - val_loss: 0.7461 - val_accuracy: 0.8368\n",
            "Epoch 4/50\n",
            "49/49 [==============================] - 12s 239ms/step - loss: 0.4848 - accuracy: 0.9268 - val_loss: 0.4646 - val_accuracy: 0.8922\n",
            "Epoch 5/50\n",
            "49/49 [==============================] - 11s 228ms/step - loss: 0.2757 - accuracy: 0.9518 - val_loss: 0.3390 - val_accuracy: 0.9087\n",
            "Epoch 6/50\n",
            "49/49 [==============================] - 12s 252ms/step - loss: 0.1761 - accuracy: 0.9685 - val_loss: 0.2736 - val_accuracy: 0.9251\n",
            "Epoch 7/50\n",
            "49/49 [==============================] - 11s 230ms/step - loss: 0.1204 - accuracy: 0.9827 - val_loss: 0.2391 - val_accuracy: 0.9326\n",
            "Epoch 8/50\n",
            "49/49 [==============================] - 12s 238ms/step - loss: 0.0857 - accuracy: 0.9878 - val_loss: 0.2165 - val_accuracy: 0.9386\n",
            "Epoch 9/50\n",
            "49/49 [==============================] - 11s 230ms/step - loss: 0.0628 - accuracy: 0.9955 - val_loss: 0.2005 - val_accuracy: 0.9446\n",
            "Epoch 10/50\n",
            "49/49 [==============================] - 10s 215ms/step - loss: 0.0474 - accuracy: 0.9968 - val_loss: 0.1921 - val_accuracy: 0.9461\n",
            "Epoch 11/50\n",
            "49/49 [==============================] - 11s 217ms/step - loss: 0.0356 - accuracy: 0.9987 - val_loss: 0.1846 - val_accuracy: 0.9491\n",
            "Epoch 12/50\n",
            "49/49 [==============================] - 11s 214ms/step - loss: 0.0278 - accuracy: 0.9994 - val_loss: 0.1787 - val_accuracy: 0.9521\n",
            "Epoch 13/50\n",
            "49/49 [==============================] - 13s 257ms/step - loss: 0.0219 - accuracy: 0.9994 - val_loss: 0.1758 - val_accuracy: 0.9536\n",
            "Epoch 14/50\n",
            "49/49 [==============================] - 11s 231ms/step - loss: 0.0176 - accuracy: 1.0000 - val_loss: 0.1722 - val_accuracy: 0.9536\n",
            "Epoch 15/50\n",
            "49/49 [==============================] - 12s 247ms/step - loss: 0.0145 - accuracy: 1.0000 - val_loss: 0.1708 - val_accuracy: 0.9536\n",
            "Epoch 16/50\n",
            "49/49 [==============================] - 11s 234ms/step - loss: 0.0120 - accuracy: 1.0000 - val_loss: 0.1694 - val_accuracy: 0.9536\n",
            "Epoch 17/50\n",
            "49/49 [==============================] - 11s 229ms/step - loss: 0.0101 - accuracy: 1.0000 - val_loss: 0.1681 - val_accuracy: 0.9536\n",
            "Epoch 18/50\n",
            "49/49 [==============================] - 11s 227ms/step - loss: 0.0086 - accuracy: 1.0000 - val_loss: 0.1673 - val_accuracy: 0.9536\n",
            "Epoch 19/50\n",
            "49/49 [==============================] - 10s 209ms/step - loss: 0.0074 - accuracy: 1.0000 - val_loss: 0.1667 - val_accuracy: 0.9536\n",
            "Epoch 20/50\n",
            "49/49 [==============================] - 11s 228ms/step - loss: 0.0065 - accuracy: 1.0000 - val_loss: 0.1658 - val_accuracy: 0.9536\n",
            "Epoch 21/50\n",
            "49/49 [==============================] - 11s 224ms/step - loss: 0.0057 - accuracy: 1.0000 - val_loss: 0.1659 - val_accuracy: 0.9536\n",
            "Epoch 22/50\n",
            "49/49 [==============================] - 11s 224ms/step - loss: 0.0050 - accuracy: 1.0000 - val_loss: 0.1657 - val_accuracy: 0.9536\n",
            "Epoch 23/50\n",
            "49/49 [==============================] - 11s 233ms/step - loss: 0.0045 - accuracy: 1.0000 - val_loss: 0.1651 - val_accuracy: 0.9536\n",
            "Epoch 24/50\n",
            "49/49 [==============================] - 11s 232ms/step - loss: 0.0040 - accuracy: 1.0000 - val_loss: 0.1654 - val_accuracy: 0.9536\n",
            "Epoch 25/50\n",
            "49/49 [==============================] - 12s 244ms/step - loss: 0.0036 - accuracy: 1.0000 - val_loss: 0.1648 - val_accuracy: 0.9551\n",
            "Epoch 26/50\n",
            "49/49 [==============================] - 11s 227ms/step - loss: 0.0033 - accuracy: 1.0000 - val_loss: 0.1647 - val_accuracy: 0.9551\n",
            "Epoch 27/50\n",
            "49/49 [==============================] - 10s 209ms/step - loss: 0.0030 - accuracy: 1.0000 - val_loss: 0.1651 - val_accuracy: 0.9551\n",
            "Epoch 28/50\n",
            "49/49 [==============================] - 13s 254ms/step - loss: 0.0027 - accuracy: 1.0000 - val_loss: 0.1651 - val_accuracy: 0.9551\n",
            "Epoch 29/50\n",
            "49/49 [==============================] - 11s 220ms/step - loss: 0.0025 - accuracy: 1.0000 - val_loss: 0.1651 - val_accuracy: 0.9551\n",
            "Epoch 30/50\n",
            "49/49 [==============================] - 12s 240ms/step - loss: 0.0023 - accuracy: 1.0000 - val_loss: 0.1652 - val_accuracy: 0.9551\n",
            "Epoch 31/50\n",
            "49/49 [==============================] - 12s 251ms/step - loss: 0.0021 - accuracy: 1.0000 - val_loss: 0.1656 - val_accuracy: 0.9551\n",
            "Epoch 32/50\n",
            "49/49 [==============================] - 11s 220ms/step - loss: 0.0019 - accuracy: 1.0000 - val_loss: 0.1656 - val_accuracy: 0.9551\n",
            "Epoch 33/50\n",
            "49/49 [==============================] - 11s 232ms/step - loss: 0.0018 - accuracy: 1.0000 - val_loss: 0.1660 - val_accuracy: 0.9551\n",
            "Epoch 34/50\n",
            "49/49 [==============================] - 11s 225ms/step - loss: 0.0017 - accuracy: 1.0000 - val_loss: 0.1661 - val_accuracy: 0.9566\n",
            "Epoch 35/50\n",
            "49/49 [==============================] - 11s 231ms/step - loss: 0.0015 - accuracy: 1.0000 - val_loss: 0.1662 - val_accuracy: 0.9566\n",
            "Epoch 36/50\n",
            "49/49 [==============================] - 12s 255ms/step - loss: 0.0014 - accuracy: 1.0000 - val_loss: 0.1664 - val_accuracy: 0.9566\n",
            "Epoch 37/50\n",
            "49/49 [==============================] - 10s 209ms/step - loss: 0.0013 - accuracy: 1.0000 - val_loss: 0.1667 - val_accuracy: 0.9566\n",
            "Epoch 38/50\n",
            "49/49 [==============================] - 11s 220ms/step - loss: 0.0013 - accuracy: 1.0000 - val_loss: 0.1669 - val_accuracy: 0.9566\n",
            "Epoch 39/50\n",
            "49/49 [==============================] - 11s 231ms/step - loss: 0.0012 - accuracy: 1.0000 - val_loss: 0.1671 - val_accuracy: 0.9566\n",
            "Epoch 40/50\n",
            "49/49 [==============================] - 11s 223ms/step - loss: 0.0011 - accuracy: 1.0000 - val_loss: 0.1673 - val_accuracy: 0.9581\n",
            "Epoch 41/50\n",
            "49/49 [==============================] - 12s 240ms/step - loss: 0.0010 - accuracy: 1.0000 - val_loss: 0.1677 - val_accuracy: 0.9581\n",
            "Epoch 42/50\n",
            "49/49 [==============================] - 12s 239ms/step - loss: 9.7341e-04 - accuracy: 1.0000 - val_loss: 0.1679 - val_accuracy: 0.9581\n",
            "Epoch 43/50\n",
            "49/49 [==============================] - 13s 263ms/step - loss: 9.1631e-04 - accuracy: 1.0000 - val_loss: 0.1681 - val_accuracy: 0.9581\n",
            "Epoch 44/50\n",
            "49/49 [==============================] - 11s 232ms/step - loss: 8.6337e-04 - accuracy: 1.0000 - val_loss: 0.1683 - val_accuracy: 0.9581\n",
            "Epoch 45/50\n",
            "49/49 [==============================] - 11s 223ms/step - loss: 8.1545e-04 - accuracy: 1.0000 - val_loss: 0.1686 - val_accuracy: 0.9581\n",
            "Epoch 46/50\n",
            "49/49 [==============================] - 11s 222ms/step - loss: 7.7120e-04 - accuracy: 1.0000 - val_loss: 0.1689 - val_accuracy: 0.9581\n",
            "Epoch 47/50\n",
            "49/49 [==============================] - 11s 226ms/step - loss: 7.2890e-04 - accuracy: 1.0000 - val_loss: 0.1692 - val_accuracy: 0.9581\n",
            "Epoch 48/50\n",
            "49/49 [==============================] - 12s 242ms/step - loss: 6.9090e-04 - accuracy: 1.0000 - val_loss: 0.1694 - val_accuracy: 0.9596\n",
            "Epoch 49/50\n",
            "49/49 [==============================] - 11s 234ms/step - loss: 6.5466e-04 - accuracy: 1.0000 - val_loss: 0.1697 - val_accuracy: 0.9581\n",
            "Epoch 50/50\n",
            " 2/49 [>.............................] - ETA: 7s - loss: 4.6852e-04 - accuracy: 1.0000"
          ]
        }
      ]
    },
    {
      "cell_type": "code",
      "source": [
        "plt.plot(r.history['loss'],label='loss')\n",
        "plt.plot(r.history['val_loss'],label='val_loss')\n",
        "plt.legend()"
      ],
      "metadata": {
        "colab": {
          "base_uri": "https://localhost:8080/",
          "height": 448
        },
        "id": "iTqjwg_VzW8i",
        "outputId": "594fa3aa-030f-499e-ca9e-99b2517a13f0"
      },
      "execution_count": 39,
      "outputs": [
        {
          "output_type": "execute_result",
          "data": {
            "text/plain": [
              "<matplotlib.legend.Legend at 0x7fcb63f913a0>"
            ]
          },
          "metadata": {},
          "execution_count": 39
        },
        {
          "output_type": "display_data",
          "data": {
            "text/plain": [
              "<Figure size 640x480 with 1 Axes>"
            ],
            "image/png": "[encoded data removed]"
          },
          "metadata": {}
        }
      ]
    },
    {
      "cell_type": "code",
      "source": [
        "plt.plot(r.history['accuracy'],label='acc')\n",
        "plt.plot(r.history['val_accuracy'],label='val_acc')\n",
        "plt.legend()"
      ],
      "metadata": {
        "colab": {
          "base_uri": "https://localhost:8080/",
          "height": 448
        },
        "id": "_5muZLtizW_H",
        "outputId": "ff9c649a-f140-4cd4-85c4-74c1fc2b4940"
      },
      "execution_count": 40,
      "outputs": [
        {
          "output_type": "execute_result",
          "data": {
            "text/plain": [
              "<matplotlib.legend.Legend at 0x7fcb69009b80>"
            ]
          },
          "metadata": {},
          "execution_count": 40
        },
        {
          "output_type": "display_data",
          "data": {
            "text/plain": [
              "<Figure size 640x480 with 1 Axes>"
            ],
            "image/png": "[encoded data removed]"
          },
          "metadata": {}
        }
      ]
    },
    {
      "cell_type": "code",
      "source": [],
      "metadata": {
        "id": "Swnd6W1RzXBd"
      },
      "execution_count": null,
      "outputs": []
    },
    {
      "cell_type": "code",
      "source": [],
      "metadata": {
        "id": "OFeDT4CuzXDz"
      },
      "execution_count": null,
      "outputs": []
    }
  ]
}