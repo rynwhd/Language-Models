{
 "cells": [
  {
   "cell_type": "code",
   "execution_count": 10,
   "id": "fb2e5933",
   "metadata": {},
   "outputs": [],
   "source": [
    "#word to index mapping \n",
    "import numpy as np"
   ]
  },
  {
   "cell_type": "code",
   "execution_count": 1,
   "id": "a498ff03",
   "metadata": {},
   "outputs": [],
   "source": [
    "doc1='I love cats'\n",
    "doc2='I like cats'\n",
    "doc3='I like dogs'"
   ]
  },
  {
   "cell_type": "code",
   "execution_count": 3,
   "id": "abb6fad7",
   "metadata": {},
   "outputs": [],
   "source": [
    "text_corpus=doc1+' '+doc2+' '+doc3"
   ]
  },
  {
   "cell_type": "code",
   "execution_count": 4,
   "id": "6905cae0",
   "metadata": {},
   "outputs": [],
   "source": [
    "t=text_corpus.split(' ')"
   ]
  },
  {
   "cell_type": "code",
   "execution_count": 6,
   "id": "90bd6656",
   "metadata": {},
   "outputs": [],
   "source": [
    "word_to_index_mapping={}\n",
    "count=0\n",
    "for i in t:\n",
    "    if i not in word_to_index_mapping:\n",
    "        word_to_index_mapping[i]=count\n",
    "        count+=1"
   ]
  },
  {
   "cell_type": "code",
   "execution_count": 24,
   "id": "2ca0f2f3",
   "metadata": {},
   "outputs": [
    {
     "data": {
      "text/plain": [
       "{'I': 0, 'love': 1, 'cats': 2, 'like': 3, 'dogs': 4}"
      ]
     },
     "execution_count": 24,
     "metadata": {},
     "output_type": "execute_result"
    }
   ],
   "source": [
    "word_to_index_mapping"
   ]
  },
  {
   "cell_type": "code",
   "execution_count": 19,
   "id": "8b7e2ab2",
   "metadata": {},
   "outputs": [],
   "source": [
    "text='I love like like cats dogs dogs'"
   ]
  },
  {
   "cell_type": "code",
   "execution_count": 26,
   "id": "22787279",
   "metadata": {},
   "outputs": [
    {
     "data": {
      "text/plain": [
       "array([0., 0., 0., 0., 0.])"
      ]
     },
     "execution_count": 26,
     "metadata": {},
     "output_type": "execute_result"
    }
   ],
   "source": [
    "vector1=np.zeros(5)\n",
    "vector1"
   ]
  },
  {
   "cell_type": "code",
   "execution_count": 27,
   "id": "b4aa09be",
   "metadata": {},
   "outputs": [
    {
     "name": "stdout",
     "output_type": "stream",
     "text": [
      "0\n",
      "1\n",
      "3\n",
      "3\n",
      "2\n",
      "4\n",
      "4\n"
     ]
    }
   ],
   "source": [
    "for i in text.split(' '):\n",
    "    vector1[word_to_index_mapping[i]]+=1\n",
    "    print(word_to_index_mapping[i])"
   ]
  },
  {
   "cell_type": "code",
   "execution_count": 28,
   "id": "ef5300b9",
   "metadata": {},
   "outputs": [
    {
     "data": {
      "text/plain": [
       "array([1., 1., 1., 2., 2.])"
      ]
     },
     "execution_count": 28,
     "metadata": {},
     "output_type": "execute_result"
    }
   ],
   "source": [
    "vector1"
   ]
  },
  {
   "cell_type": "code",
   "execution_count": null,
   "id": "df4f14d4",
   "metadata": {},
   "outputs": [],
   "source": []
  }
 ],
 "metadata": {
  "kernelspec": {
   "display_name": "Python 3 (ipykernel)",
   "language": "python",
   "name": "python3"
  },
  "language_info": {
   "codemirror_mode": {
    "name": "ipython",
    "version": 3
   },
   "file_extension": ".py",
   "mimetype": "text/x-python",
   "name": "python",
   "nbconvert_exporter": "python",
   "pygments_lexer": "ipython3",
   "version": "3.9.6"
  }
 },
 "nbformat": 4,
 "nbformat_minor": 5
}
