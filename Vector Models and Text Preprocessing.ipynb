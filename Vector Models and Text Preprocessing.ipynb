{
 "cells": [
  {
   "cell_type": "code",
   "execution_count": 3,
   "id": "98f10075",
   "metadata": {},
   "outputs": [],
   "source": [
    "import nltk\n",
    "from nltk.stem import WordNetLemmatizer"
   ]
  },
  {
   "cell_type": "code",
   "execution_count": 8,
   "id": "28e6b9b4",
   "metadata": {},
   "outputs": [
    {
     "name": "stderr",
     "output_type": "stream",
     "text": [
      "[nltk_data] Downloading package wordnet to\n",
      "[nltk_data]     /Users/rayanbhat/nltk_data...\n"
     ]
    },
    {
     "data": {
      "text/plain": [
       "True"
      ]
     },
     "execution_count": 8,
     "metadata": {},
     "output_type": "execute_result"
    }
   ],
   "source": [
    "nltk.download('wordnet')"
   ]
  },
  {
   "cell_type": "code",
   "execution_count": 9,
   "id": "ae9b0651",
   "metadata": {},
   "outputs": [],
   "source": []
  },
  {
   "cell_type": "code",
   "execution_count": 10,
   "id": "390eb33f",
   "metadata": {},
   "outputs": [],
   "source": [
    "lemmatizer=WordNetLemmatizer()"
   ]
  },
  {
   "cell_type": "code",
   "execution_count": 11,
   "id": "3ffbdf47",
   "metadata": {},
   "outputs": [
    {
     "data": {
      "text/plain": [
       "'unnecessary'"
      ]
     },
     "execution_count": 11,
     "metadata": {},
     "output_type": "execute_result"
    }
   ],
   "source": [
    "lemmatizer.lemmatize('unnecessary')"
   ]
  },
  {
   "cell_type": "code",
   "execution_count": 12,
   "id": "33da0e9f",
   "metadata": {},
   "outputs": [
    {
     "data": {
      "text/plain": [
       "'running'"
      ]
     },
     "execution_count": 12,
     "metadata": {},
     "output_type": "execute_result"
    }
   ],
   "source": [
    "lemmatizer.lemmatize('running')"
   ]
  },
  {
   "cell_type": "code",
   "execution_count": 13,
   "id": "8a73db9f",
   "metadata": {},
   "outputs": [
    {
     "data": {
      "text/plain": [
       "'run'"
      ]
     },
     "execution_count": 13,
     "metadata": {},
     "output_type": "execute_result"
    }
   ],
   "source": [
    "lemmatizer.lemmatize('running',pos=wordnet.VERB)"
   ]
  },
  {
   "cell_type": "code",
   "execution_count": 14,
   "id": "40c86366",
   "metadata": {},
   "outputs": [],
   "source": [
    "import string"
   ]
  },
  {
   "cell_type": "code",
   "execution_count": 18,
   "id": "326ba104",
   "metadata": {},
   "outputs": [],
   "source": [
    "def get_pos_word(word):\n",
    "    if word.startswith('J'):\n",
    "        return wordnet.ADJ\n",
    "    elif word.startswith('V'):\n",
    "        return wordnet.VERB\n",
    "    elif word.startswith('N'):\n",
    "        return wordnet.NOUN\n",
    "    elif word.startswith('R'):\n",
    "        return wordnet.ADV\n",
    "    else:\n",
    "        return wordnet.NOUN"
   ]
  },
  {
   "cell_type": "code",
   "execution_count": 17,
   "id": "2c3bcba5",
   "metadata": {},
   "outputs": [
    {
     "name": "stderr",
     "output_type": "stream",
     "text": [
      "[nltk_data] Downloading package averaged_perceptron_tagger to\n",
      "[nltk_data]     /Users/rayanbhat/nltk_data...\n",
      "[nltk_data]   Unzipping taggers/averaged_perceptron_tagger.zip.\n"
     ]
    },
    {
     "data": {
      "text/plain": [
       "True"
      ]
     },
     "execution_count": 17,
     "metadata": {},
     "output_type": "execute_result"
    }
   ],
   "source": [
    "nltk.download('averaged_perceptron_tagger')"
   ]
  },
  {
   "cell_type": "code",
   "execution_count": 24,
   "id": "b3dc6a7f",
   "metadata": {},
   "outputs": [],
   "source": [
    "sentence=\"The cat was following the bird as it flew by\".split()"
   ]
  },
  {
   "cell_type": "code",
   "execution_count": 80,
   "id": "d59461a3",
   "metadata": {},
   "outputs": [
    {
     "data": {
      "text/plain": [
       "['The', 'cat', 'was', 'following', 'the', 'bird', 'as', 'it', 'flew', 'by']"
      ]
     },
     "execution_count": 80,
     "metadata": {},
     "output_type": "execute_result"
    }
   ],
   "source": [
    "sentence"
   ]
  },
  {
   "cell_type": "code",
   "execution_count": 25,
   "id": "8bf63ce3",
   "metadata": {},
   "outputs": [],
   "source": [
    "words_with_tags=nltk.pos_tag(sentence)"
   ]
  },
  {
   "cell_type": "code",
   "execution_count": 26,
   "id": "2b76611d",
   "metadata": {},
   "outputs": [
    {
     "data": {
      "text/plain": [
       "[('The', 'DT'),\n",
       " ('cat', 'NN'),\n",
       " ('was', 'VBD'),\n",
       " ('following', 'VBG'),\n",
       " ('the', 'DT'),\n",
       " ('bird', 'NN'),\n",
       " ('as', 'IN'),\n",
       " ('it', 'PRP'),\n",
       " ('flew', 'VBD'),\n",
       " ('by', 'IN')]"
      ]
     },
     "execution_count": 26,
     "metadata": {},
     "output_type": "execute_result"
    }
   ],
   "source": [
    "words_with_tags"
   ]
  },
  {
   "cell_type": "code",
   "execution_count": 29,
   "id": "360e5e6a",
   "metadata": {},
   "outputs": [],
   "source": [
    "lemmatized_sentence=\"\"\n",
    "for words,tags in words_with_tags:\n",
    "    lemmatized_sentence+=lemmatizer.lemmatize(words,pos=get_pos_word(tags))+\" \"\n",
    "    "
   ]
  },
  {
   "cell_type": "code",
   "execution_count": 30,
   "id": "a2398d9f",
   "metadata": {},
   "outputs": [
    {
     "data": {
      "text/plain": [
       "'The cat be follow the bird a it fly by '"
      ]
     },
     "execution_count": 30,
     "metadata": {},
     "output_type": "execute_result"
    }
   ],
   "source": [
    "lemmatized_sentence"
   ]
  },
  {
   "cell_type": "code",
   "execution_count": 31,
   "id": "7b74de4f",
   "metadata": {},
   "outputs": [],
   "source": [
    "import pandas as pd\n",
    "import numpy as np\n",
    "import matplotlib.pyplot as ply\n",
    "import nltk"
   ]
  },
  {
   "cell_type": "code",
   "execution_count": 32,
   "id": "0481905e",
   "metadata": {},
   "outputs": [],
   "source": [
    "df=pd.read_csv('CSV/bbc_text_cls.csv')"
   ]
  },
  {
   "cell_type": "code",
   "execution_count": 33,
   "id": "6e2f05ea",
   "metadata": {},
   "outputs": [
    {
     "data": {
      "text/html": [
       "<div>\n",
       "<style scoped>\n",
       "    .dataframe tbody tr th:only-of-type {\n",
       "        vertical-align: middle;\n",
       "    }\n",
       "\n",
       "    .dataframe tbody tr th {\n",
       "        vertical-align: top;\n",
       "    }\n",
       "\n",
       "    .dataframe thead th {\n",
       "        text-align: right;\n",
       "    }\n",
       "</style>\n",
       "<table border=\"1\" class=\"dataframe\">\n",
       "  <thead>\n",
       "    <tr style=\"text-align: right;\">\n",
       "      <th></th>\n",
       "      <th>text</th>\n",
       "      <th>labels</th>\n",
       "    </tr>\n",
       "  </thead>\n",
       "  <tbody>\n",
       "    <tr>\n",
       "      <th>0</th>\n",
       "      <td>Ad sales boost Time Warner profit\\n\\nQuarterly...</td>\n",
       "      <td>business</td>\n",
       "    </tr>\n",
       "    <tr>\n",
       "      <th>1</th>\n",
       "      <td>Dollar gains on Greenspan speech\\n\\nThe dollar...</td>\n",
       "      <td>business</td>\n",
       "    </tr>\n",
       "    <tr>\n",
       "      <th>2</th>\n",
       "      <td>Yukos unit buyer faces loan claim\\n\\nThe owner...</td>\n",
       "      <td>business</td>\n",
       "    </tr>\n",
       "    <tr>\n",
       "      <th>3</th>\n",
       "      <td>High fuel prices hit BA's profits\\n\\nBritish A...</td>\n",
       "      <td>business</td>\n",
       "    </tr>\n",
       "    <tr>\n",
       "      <th>4</th>\n",
       "      <td>Pernod takeover talk lifts Domecq\\n\\nShares in...</td>\n",
       "      <td>business</td>\n",
       "    </tr>\n",
       "  </tbody>\n",
       "</table>\n",
       "</div>"
      ],
      "text/plain": [
       "                                                text    labels\n",
       "0  Ad sales boost Time Warner profit\\n\\nQuarterly...  business\n",
       "1  Dollar gains on Greenspan speech\\n\\nThe dollar...  business\n",
       "2  Yukos unit buyer faces loan claim\\n\\nThe owner...  business\n",
       "3  High fuel prices hit BA's profits\\n\\nBritish A...  business\n",
       "4  Pernod takeover talk lifts Domecq\\n\\nShares in...  business"
      ]
     },
     "execution_count": 33,
     "metadata": {},
     "output_type": "execute_result"
    }
   ],
   "source": [
    "df.head()"
   ]
  },
  {
   "cell_type": "code",
   "execution_count": 34,
   "id": "e1520679",
   "metadata": {},
   "outputs": [],
   "source": [
    "X=df['text']\n",
    "y=df['labels']"
   ]
  },
  {
   "cell_type": "code",
   "execution_count": 35,
   "id": "3ee13943",
   "metadata": {},
   "outputs": [
    {
     "data": {
      "text/plain": [
       "<AxesSubplot: >"
      ]
     },
     "execution_count": 35,
     "metadata": {},
     "output_type": "execute_result"
    },
    {
     "data": {
      "image/png": "[encoded data removed]",
      "text/plain": [
       "<Figure size 640x480 with 1 Axes>"
      ]
     },
     "metadata": {},
     "output_type": "display_data"
    }
   ],
   "source": [
    "y.hist()"
   ]
  },
  {
   "cell_type": "code",
   "execution_count": 36,
   "id": "d42813ad",
   "metadata": {},
   "outputs": [],
   "source": [
    "from sklearn.model_selection import train_test_split"
   ]
  },
  {
   "cell_type": "code",
   "execution_count": 37,
   "id": "05ccd4c8",
   "metadata": {},
   "outputs": [],
   "source": [
    "X_train, X_test, y_train, y_test = train_test_split(X, y, test_size=0.33, random_state=42)"
   ]
  },
  {
   "cell_type": "code",
   "execution_count": 39,
   "id": "5f3b0ae0",
   "metadata": {},
   "outputs": [],
   "source": [
    "from sklearn.naive_bayes import MultinomialNB\n",
    "from sklearn.feature_extraction.text import CountVectorizer"
   ]
  },
  {
   "cell_type": "code",
   "execution_count": 59,
   "id": "f1e046bc",
   "metadata": {},
   "outputs": [
    {
     "name": "stdout",
     "output_type": "stream",
     "text": [
      "Sparsity:  0.008113533777887899\n",
      "0.9946308724832215\n",
      "0.9768707482993197\n"
     ]
    }
   ],
   "source": [
    "#Simple Vectorization\n",
    "vectorizer=CountVectorizer()\n",
    "Xtrain1=vectorizer.fit_transform(X_train)\n",
    "Xtest1=vectorizer.transform(X_test)\n",
    "print('Sparsity: ',Xtrain1.nnz/np.prod(Xtrain1.shape))\n",
    "Multinomial=MultinomialNB()\n",
    "Multinomial.fit(Xtrain1,y_train)\n",
    "print(Multinomial.score(Xtrain1,y_train))\n",
    "print(Multinomial.score(Xtest1,y_test))"
   ]
  },
  {
   "cell_type": "code",
   "execution_count": 64,
   "id": "e4ec2c28",
   "metadata": {},
   "outputs": [
    {
     "name": "stdout",
     "output_type": "stream",
     "text": [
      "Sparsity:  0.005884431873608602\n",
      "0.9959731543624161\n",
      "0.9768707482993197\n"
     ]
    }
   ],
   "source": [
    "#Using Stopwords\n",
    "vectorizer=CountVectorizer(stop_words='english')\n",
    "Xtrain2=vectorizer.fit_transform(X_train)\n",
    "Xtest2=vectorizer.transform(X_test)\n",
    "print('Sparsity: ',Xtrain2.nnz/np.prod(Xtrain2.shape))\n",
    "Multinomial2=MultinomialNB()\n",
    "Multinomial2.fit(Xtrain2,y_train)\n",
    "print(Multinomial2.score(Xtrain2,y_train))\n",
    "print(Multinomial2.score(Xtest2,y_test))"
   ]
  },
  {
   "cell_type": "code",
   "execution_count": 83,
   "id": "e7187ca7",
   "metadata": {},
   "outputs": [],
   "source": [
    "#Lemmatization\n",
    "from nltk.stem import WordNetLemmatizer\n",
    "def get_pos_word(word):\n",
    "    if word.startswith('J'):\n",
    "        return wordnet.ADJ\n",
    "    elif word.startswith('V'):\n",
    "        return wordnet.VERB\n",
    "    elif word.startswith('N'):\n",
    "        return wordnet.NOUN\n",
    "    elif word.startswith('R'):\n",
    "        return wordnet.ADV\n",
    "    else:\n",
    "        return wordnet.NOUN\n",
    "class Token_Lemmatizer:\n",
    "    def __init__(self):\n",
    "        self.wnl=WordNetLemmatizer()\n",
    "    def __call__(self,doc):\n",
    "        tokens=doc.split(\" \")\n",
    "        words_and_tags=nltk.pos_tag(tokens)\n",
    "        return [self.wnl.lemmatize(word,pos=get_pos_word(tag)) for word,tag in words_and_tags]"
   ]
  },
  {
   "cell_type": "code",
   "execution_count": 87,
   "id": "8d309032",
   "metadata": {},
   "outputs": [
    {
     "name": "stderr",
     "output_type": "stream",
     "text": [
      "/Users/rayanbhat/Library/Python/3.9/lib/python/site-packages/sklearn/feature_extraction/text.py:528: UserWarning: The parameter 'token_pattern' will not be used since 'tokenizer' is not None'\n",
      "  warnings.warn(\n"
     ]
    },
    {
     "name": "stdout",
     "output_type": "stream",
     "text": [
      "Sparsity:  0.004213179925542495\n",
      "0.9979865771812081\n",
      "0.9619047619047619\n"
     ]
    }
   ],
   "source": [
    "vectorizer3=CountVectorizer(tokenizer=Token_Lemmatizer())\n",
    "Xtrain3=vectorizer3.fit_transform(X_train)\n",
    "Xtest3=vectorizer3.transform(X_test)\n",
    "print('Sparsity: ',Xtrain3.nnz/np.prod(Xtrain3.shape))\n",
    "Multinomial3=MultinomialNB()\n",
    "Multinomial3.fit(Xtrain3,y_train)\n",
    "print(Multinomial3.score(Xtrain3,y_train))\n",
    "print(Multinomial3.score(Xtest3,y_test))"
   ]
  },
  {
   "cell_type": "code",
   "execution_count": 89,
   "id": "8f8fc565",
   "metadata": {},
   "outputs": [],
   "source": [
    "#Stemming\n",
    "from nltk.stem.porter import PorterStemmer\n",
    "class Token_Stemmer:\n",
    "    def __init__(self):\n",
    "        self.ps=PorterStemmer()\n",
    "    def __call__(self,doc):\n",
    "        tokens=doc.split(\" \")\n",
    "        return [self.ps.stem(word) for word in tokens]"
   ]
  },
  {
   "cell_type": "code",
   "execution_count": 95,
   "id": "31e3c878",
   "metadata": {},
   "outputs": [
    {
     "name": "stderr",
     "output_type": "stream",
     "text": [
      "/Users/rayanbhat/Library/Python/3.9/lib/python/site-packages/sklearn/feature_extraction/text.py:528: UserWarning: The parameter 'token_pattern' will not be used since 'tokenizer' is not None'\n",
      "  warnings.warn(\n"
     ]
    },
    {
     "name": "stdout",
     "output_type": "stream",
     "text": [
      "Sparsity:  0.004562600529648767\n",
      "0.9953020134228188\n",
      "0.9659863945578231\n"
     ]
    }
   ],
   "source": [
    "vectorizer4=CountVectorizer(tokenizer=Token_Stemmer())\n",
    "Xtrain4=vectorizer4.fit_transform(X_train)\n",
    "Xtest4=vectorizer4.transform(X_test)\n",
    "print('Sparsity: ',Xtrain4.nnz/np.prod(Xtrain4.shape))\n",
    "Multinomial4=MultinomialNB()\n",
    "Multinomial4.fit(Xtrain4,y_train)\n",
    "print(Multinomial4.score(Xtrain4,y_train))\n",
    "print(Multinomial4.score(Xtest4,y_test))"
   ]
  }
 ],
 "metadata": {
  "kernelspec": {
   "display_name": "Python 3 (ipykernel)",
   "language": "python",
   "name": "python3"
  },
  "language_info": {
   "codemirror_mode": {
    "name": "ipython",
    "version": 3
   },
   "file_extension": ".py",
   "mimetype": "text/x-python",
   "name": "python",
   "nbconvert_exporter": "python",
   "pygments_lexer": "ipython3",
   "version": "3.9.6"
  }
 },
 "nbformat": 4,
 "nbformat_minor": 5
}
