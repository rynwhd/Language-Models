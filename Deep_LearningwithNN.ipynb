{
  "nbformat": 4,
  "nbformat_minor": 0,
  "metadata": {
    "colab": {
      "provenance": [],
      "authorship_tag": "ABX9TyP6JKC32O2++gcWoe4LVrVq",
      "include_colab_link": true
    },
    "kernelspec": {
      "name": "python3",
      "display_name": "Python 3"
    },
    "language_info": {
      "name": "python"
    }
  },
  "cells": [
    {
      "cell_type": "markdown",
      "metadata": {
        "id": "view-in-github",
        "colab_type": "text"
      },
      "source": [
        "<a href=\"https://colab.research.google.com/github/rynwhd/Language-Models/blob/main/Deep_LearningwithNN.ipynb\" target=\"_parent\"><img src=\"https://colab.research.google.com/assets/colab-badge.svg\" alt=\"Open In Colab\"/></a>"
      ]
    },
    {
      "cell_type": "code",
      "execution_count": 1,
      "metadata": {
        "id": "Sk6xxXhRFOAZ",
        "colab": {
          "base_uri": "https://localhost:8080/"
        },
        "outputId": "c0df48cd-9549-4dab-ab86-165b0bfcd37f"
      },
      "outputs": [
        {
          "output_type": "stream",
          "name": "stdout",
          "text": [
            "--2023-03-01 18:07:25--  https://lazyprogrammer.me/course_files/AirlineTweets.csv\n",
            "Resolving lazyprogrammer.me (lazyprogrammer.me)... 172.67.213.166, 104.21.23.210, 2606:4700:3030::ac43:d5a6, ...\n",
            "Connecting to lazyprogrammer.me (lazyprogrammer.me)|172.67.213.166|:443... connected.\n",
            "HTTP request sent, awaiting response... 200 OK\n",
            "Length: 3421431 (3.3M) [text/csv]\n",
            "Saving to: ‘AirlineTweets.csv’\n",
            "\n",
            "AirlineTweets.csv   100%[===================>]   3.26M  4.24MB/s    in 0.8s    \n",
            "\n",
            "2023-03-01 18:07:27 (4.24 MB/s) - ‘AirlineTweets.csv’ saved [3421431/3421431]\n",
            "\n"
          ]
        }
      ],
      "source": [
        "!wget -nc https://lazyprogrammer.me/course_files/AirlineTweets.csv\n"
      ]
    },
    {
      "cell_type": "code",
      "source": [
        "import numpy as np\n",
        "import pandas as pd\n",
        "import seaborn as sns\n",
        "import tensorflow as tf\n",
        "import matplotlib.pyplot as plt\n",
        "from sklearn.model_selection import train_test_split\n",
        "from sklearn.feature_extraction.text import TfidfVectorizer\n",
        "from sklearn.metrics import roc_auc_score, f1_score, confusion_matrix"
      ],
      "metadata": {
        "id": "8Ls8zHFtRUx2"
      },
      "execution_count": 2,
      "outputs": []
    },
    {
      "cell_type": "code",
      "source": [
        "from tensorflow.keras.layers import Dense,Input\n",
        "from tensorflow.keras.models import Model\n",
        "from tensorflow.keras.losses import BinaryCrossentropy\n",
        "from tensorflow.keras.optimizers import Adam"
      ],
      "metadata": {
        "id": "oQvhE7lCRU1K"
      },
      "execution_count": 3,
      "outputs": []
    },
    {
      "cell_type": "code",
      "source": [
        "np.random.seed(0)\n",
        "tf.random.set_seed(0)"
      ],
      "metadata": {
        "id": "XRLWzjwzRU4N"
      },
      "execution_count": 4,
      "outputs": []
    },
    {
      "cell_type": "code",
      "source": [
        "df=pd.read_csv('AirlineTweets.csv')"
      ],
      "metadata": {
        "id": "tb3HEnm2RU6y"
      },
      "execution_count": 5,
      "outputs": []
    },
    {
      "cell_type": "code",
      "source": [
        "df.head()"
      ],
      "metadata": {
        "colab": {
          "base_uri": "https://localhost:8080/",
          "height": 496
        },
        "id": "S5YdMB2ZRU9g",
        "outputId": "1a2b1486-ffcc-4efb-c2ed-127eeba5c902"
      },
      "execution_count": 6,
      "outputs": [
        {
          "output_type": "execute_result",
          "data": {
            "text/plain": [
              "             tweet_id airline_sentiment  airline_sentiment_confidence  \\\n",
              "0  570306133677760513           neutral                        1.0000   \n",
              "1  570301130888122368          positive                        0.3486   \n",
              "2  570301083672813571           neutral                        0.6837   \n",
              "3  570301031407624196          negative                        1.0000   \n",
              "4  570300817074462722          negative                        1.0000   \n",
              "\n",
              "  negativereason  negativereason_confidence         airline  \\\n",
              "0            NaN                        NaN  Virgin America   \n",
              "1            NaN                     0.0000  Virgin America   \n",
              "2            NaN                        NaN  Virgin America   \n",
              "3     Bad Flight                     0.7033  Virgin America   \n",
              "4     Can't Tell                     1.0000  Virgin America   \n",
              "\n",
              "  airline_sentiment_gold        name negativereason_gold  retweet_count  \\\n",
              "0                    NaN     cairdin                 NaN              0   \n",
              "1                    NaN    jnardino                 NaN              0   \n",
              "2                    NaN  yvonnalynn                 NaN              0   \n",
              "3                    NaN    jnardino                 NaN              0   \n",
              "4                    NaN    jnardino                 NaN              0   \n",
              "\n",
              "                                                text tweet_coord  \\\n",
              "0                @VirginAmerica What @dhepburn said.         NaN   \n",
              "1  @VirginAmerica plus you've added commercials t...         NaN   \n",
              "2  @VirginAmerica I didn't today... Must mean I n...         NaN   \n",
              "3  @VirginAmerica it's really aggressive to blast...         NaN   \n",
              "4  @VirginAmerica and it's a really big bad thing...         NaN   \n",
              "\n",
              "               tweet_created tweet_location               user_timezone  \n",
              "0  2015-02-24 11:35:52 -0800            NaN  Eastern Time (US & Canada)  \n",
              "1  2015-02-24 11:15:59 -0800            NaN  Pacific Time (US & Canada)  \n",
              "2  2015-02-24 11:15:48 -0800      Lets Play  Central Time (US & Canada)  \n",
              "3  2015-02-24 11:15:36 -0800            NaN  Pacific Time (US & Canada)  \n",
              "4  2015-02-24 11:14:45 -0800            NaN  Pacific Time (US & Canada)  "
            ],
            "text/html": [
              "\n",
              "  <div id=\"df-f464b21d-ea72-4d91-a079-8699b592bd14\">\n",
              "    <div class=\"colab-df-container\">\n",
              "      <div>\n",
              "<style scoped>\n",
              "    .dataframe tbody tr th:only-of-type {\n",
              "        vertical-align: middle;\n",
              "    }\n",
              "\n",
              "    .dataframe tbody tr th {\n",
              "        vertical-align: top;\n",
              "    }\n",
              "\n",
              "    .dataframe thead th {\n",
              "        text-align: right;\n",
              "    }\n",
              "</style>\n",
              "<table border=\"1\" class=\"dataframe\">\n",
              "  <thead>\n",
              "    <tr style=\"text-align: right;\">\n",
              "      <th></th>\n",
              "      <th>tweet_id</th>\n",
              "      <th>airline_sentiment</th>\n",
              "      <th>airline_sentiment_confidence</th>\n",
              "      <th>negativereason</th>\n",
              "      <th>negativereason_confidence</th>\n",
              "      <th>airline</th>\n",
              "      <th>airline_sentiment_gold</th>\n",
              "      <th>name</th>\n",
              "      <th>negativereason_gold</th>\n",
              "      <th>retweet_count</th>\n",
              "      <th>text</th>\n",
              "      <th>tweet_coord</th>\n",
              "      <th>tweet_created</th>\n",
              "      <th>tweet_location</th>\n",
              "      <th>user_timezone</th>\n",
              "    </tr>\n",
              "  </thead>\n",
              "  <tbody>\n",
              "    <tr>\n",
              "      <th>0</th>\n",
              "      <td>570306133677760513</td>\n",
              "      <td>neutral</td>\n",
              "      <td>1.0000</td>\n",
              "      <td>NaN</td>\n",
              "      <td>NaN</td>\n",
              "      <td>Virgin America</td>\n",
              "      <td>NaN</td>\n",
              "      <td>cairdin</td>\n",
              "      <td>NaN</td>\n",
              "      <td>0</td>\n",
              "      <td>@VirginAmerica What @dhepburn said.</td>\n",
              "      <td>NaN</td>\n",
              "      <td>2015-02-24 11:35:52 -0800</td>\n",
              "      <td>NaN</td>\n",
              "      <td>Eastern Time (US &amp; Canada)</td>\n",
              "    </tr>\n",
              "    <tr>\n",
              "      <th>1</th>\n",
              "      <td>570301130888122368</td>\n",
              "      <td>positive</td>\n",
              "      <td>0.3486</td>\n",
              "      <td>NaN</td>\n",
              "      <td>0.0000</td>\n",
              "      <td>Virgin America</td>\n",
              "      <td>NaN</td>\n",
              "      <td>jnardino</td>\n",
              "      <td>NaN</td>\n",
              "      <td>0</td>\n",
              "      <td>@VirginAmerica plus you've added commercials t...</td>\n",
              "      <td>NaN</td>\n",
              "      <td>2015-02-24 11:15:59 -0800</td>\n",
              "      <td>NaN</td>\n",
              "      <td>Pacific Time (US &amp; Canada)</td>\n",
              "    </tr>\n",
              "    <tr>\n",
              "      <th>2</th>\n",
              "      <td>570301083672813571</td>\n",
              "      <td>neutral</td>\n",
              "      <td>0.6837</td>\n",
              "      <td>NaN</td>\n",
              "      <td>NaN</td>\n",
              "      <td>Virgin America</td>\n",
              "      <td>NaN</td>\n",
              "      <td>yvonnalynn</td>\n",
              "      <td>NaN</td>\n",
              "      <td>0</td>\n",
              "      <td>@VirginAmerica I didn't today... Must mean I n...</td>\n",
              "      <td>NaN</td>\n",
              "      <td>2015-02-24 11:15:48 -0800</td>\n",
              "      <td>Lets Play</td>\n",
              "      <td>Central Time (US &amp; Canada)</td>\n",
              "    </tr>\n",
              "    <tr>\n",
              "      <th>3</th>\n",
              "      <td>570301031407624196</td>\n",
              "      <td>negative</td>\n",
              "      <td>1.0000</td>\n",
              "      <td>Bad Flight</td>\n",
              "      <td>0.7033</td>\n",
              "      <td>Virgin America</td>\n",
              "      <td>NaN</td>\n",
              "      <td>jnardino</td>\n",
              "      <td>NaN</td>\n",
              "      <td>0</td>\n",
              "      <td>@VirginAmerica it's really aggressive to blast...</td>\n",
              "      <td>NaN</td>\n",
              "      <td>2015-02-24 11:15:36 -0800</td>\n",
              "      <td>NaN</td>\n",
              "      <td>Pacific Time (US &amp; Canada)</td>\n",
              "    </tr>\n",
              "    <tr>\n",
              "      <th>4</th>\n",
              "      <td>570300817074462722</td>\n",
              "      <td>negative</td>\n",
              "      <td>1.0000</td>\n",
              "      <td>Can't Tell</td>\n",
              "      <td>1.0000</td>\n",
              "      <td>Virgin America</td>\n",
              "      <td>NaN</td>\n",
              "      <td>jnardino</td>\n",
              "      <td>NaN</td>\n",
              "      <td>0</td>\n",
              "      <td>@VirginAmerica and it's a really big bad thing...</td>\n",
              "      <td>NaN</td>\n",
              "      <td>2015-02-24 11:14:45 -0800</td>\n",
              "      <td>NaN</td>\n",
              "      <td>Pacific Time (US &amp; Canada)</td>\n",
              "    </tr>\n",
              "  </tbody>\n",
              "</table>\n",
              "</div>\n",
              "      <button class=\"colab-df-convert\" onclick=\"convertToInteractive('df-f464b21d-ea72-4d91-a079-8699b592bd14')\"\n",
              "              title=\"Convert this dataframe to an interactive table.\"\n",
              "              style=\"display:none;\">\n",
              "        \n",
              "  <svg xmlns=\"http://www.w3.org/2000/svg\" height=\"24px\"viewBox=\"0 0 24 24\"\n",
              "       width=\"24px\">\n",
              "    <path d=\"M0 0h24v24H0V0z\" fill=\"none\"/>\n",
              "    <path d=\"M18.56 5.44l.94 2.06.94-2.06 2.06-.94-2.06-.94-.94-2.06-.94 2.06-2.06.94zm-11 1L8.5 8.5l.94-2.06 2.06-.94-2.06-.94L8.5 2.5l-.94 2.06-2.06.94zm10 10l.94 2.06.94-2.06 2.06-.94-2.06-.94-.94-2.06-.94 2.06-2.06.94z\"/><path d=\"M17.41 7.96l-1.37-1.37c-.4-.4-.92-.59-1.43-.59-.52 0-1.04.2-1.43.59L10.3 9.45l-7.72 7.72c-.78.78-.78 2.05 0 2.83L4 21.41c.39.39.9.59 1.41.59.51 0 1.02-.2 1.41-.59l7.78-7.78 2.81-2.81c.8-.78.8-2.07 0-2.86zM5.41 20L4 18.59l7.72-7.72 1.47 1.35L5.41 20z\"/>\n",
              "  </svg>\n",
              "      </button>\n",
              "      \n",
              "  <style>\n",
              "    .colab-df-container {\n",
              "      display:flex;\n",
              "      flex-wrap:wrap;\n",
              "      gap: 12px;\n",
              "    }\n",
              "\n",
              "    .colab-df-convert {\n",
              "      background-color: #E8F0FE;\n",
              "      border: none;\n",
              "      border-radius: 50%;\n",
              "      cursor: pointer;\n",
              "      display: none;\n",
              "      fill: #1967D2;\n",
              "      height: 32px;\n",
              "      padding: 0 0 0 0;\n",
              "      width: 32px;\n",
              "    }\n",
              "\n",
              "    .colab-df-convert:hover {\n",
              "      background-color: #E2EBFA;\n",
              "      box-shadow: 0px 1px 2px rgba(60, 64, 67, 0.3), 0px 1px 3px 1px rgba(60, 64, 67, 0.15);\n",
              "      fill: #174EA6;\n",
              "    }\n",
              "\n",
              "    [theme=dark] .colab-df-convert {\n",
              "      background-color: #3B4455;\n",
              "      fill: #D2E3FC;\n",
              "    }\n",
              "\n",
              "    [theme=dark] .colab-df-convert:hover {\n",
              "      background-color: #434B5C;\n",
              "      box-shadow: 0px 1px 3px 1px rgba(0, 0, 0, 0.15);\n",
              "      filter: drop-shadow(0px 1px 2px rgba(0, 0, 0, 0.3));\n",
              "      fill: #FFFFFF;\n",
              "    }\n",
              "  </style>\n",
              "\n",
              "      <script>\n",
              "        const buttonEl =\n",
              "          document.querySelector('#df-f464b21d-ea72-4d91-a079-8699b592bd14 button.colab-df-convert');\n",
              "        buttonEl.style.display =\n",
              "          google.colab.kernel.accessAllowed ? 'block' : 'none';\n",
              "\n",
              "        async function convertToInteractive(key) {\n",
              "          const element = document.querySelector('#df-f464b21d-ea72-4d91-a079-8699b592bd14');\n",
              "          const dataTable =\n",
              "            await google.colab.kernel.invokeFunction('convertToInteractive',\n",
              "                                                     [key], {});\n",
              "          if (!dataTable) return;\n",
              "\n",
              "          const docLinkHtml = 'Like what you see? Visit the ' +\n",
              "            '<a target=\"_blank\" href=https://colab.research.google.com/notebooks/data_table.ipynb>data table notebook</a>'\n",
              "            + ' to learn more about interactive tables.';\n",
              "          element.innerHTML = '';\n",
              "          dataTable['output_type'] = 'display_data';\n",
              "          await google.colab.output.renderOutput(dataTable, element);\n",
              "          const docLink = document.createElement('div');\n",
              "          docLink.innerHTML = docLinkHtml;\n",
              "          element.appendChild(docLink);\n",
              "        }\n",
              "      </script>\n",
              "    </div>\n",
              "  </div>\n",
              "  "
            ]
          },
          "metadata": {},
          "execution_count": 6
        }
      ]
    },
    {
      "cell_type": "code",
      "source": [
        "df=df[['airline_sentiment','text']]"
      ],
      "metadata": {
        "id": "OhRQLLfNRVAl"
      },
      "execution_count": 7,
      "outputs": []
    },
    {
      "cell_type": "code",
      "source": [
        "df['airline_sentiment'].hist()"
      ],
      "metadata": {
        "colab": {
          "base_uri": "https://localhost:8080/",
          "height": 283
        },
        "id": "-Olp2pi-RVDR",
        "outputId": "5a633348-2283-42e7-e788-1cd691575299"
      },
      "execution_count": 8,
      "outputs": [
        {
          "output_type": "execute_result",
          "data": {
            "text/plain": [
              "<AxesSubplot:>"
            ]
          },
          "metadata": {},
          "execution_count": 8
        },
        {
          "output_type": "display_data",
          "data": {
            "text/plain": [
              "<Figure size 432x288 with 1 Axes>"
            ],
            "image/png": "[encoded data removed]"
          },
          "metadata": {
            "needs_background": "light"
          }
        }
      ]
    },
    {
      "cell_type": "code",
      "source": [
        "df=df[df['airline_sentiment']!='neutral'].copy()"
      ],
      "metadata": {
        "id": "Ytp-iSKERVF_"
      },
      "execution_count": 9,
      "outputs": []
    },
    {
      "cell_type": "code",
      "source": [
        "target_map={'positive':1,'negative':0}\n",
        "df['target']=df['airline_sentiment'].map(target_map)"
      ],
      "metadata": {
        "id": "5x5MCoonRVKK"
      },
      "execution_count": 10,
      "outputs": []
    },
    {
      "cell_type": "code",
      "source": [
        "df.head()"
      ],
      "metadata": {
        "colab": {
          "base_uri": "https://localhost:8080/",
          "height": 206
        },
        "id": "nX3Gsd0gRVNh",
        "outputId": "0d5b0d35-21b9-4a56-fd7b-9e64d27a9d2d"
      },
      "execution_count": 11,
      "outputs": [
        {
          "output_type": "execute_result",
          "data": {
            "text/plain": [
              "  airline_sentiment                                               text  target\n",
              "1          positive  @VirginAmerica plus you've added commercials t...       1\n",
              "3          negative  @VirginAmerica it's really aggressive to blast...       0\n",
              "4          negative  @VirginAmerica and it's a really big bad thing...       0\n",
              "5          negative  @VirginAmerica seriously would pay $30 a fligh...       0\n",
              "6          positive  @VirginAmerica yes, nearly every time I fly VX...       1"
            ],
            "text/html": [
              "\n",
              "  <div id=\"df-fe511c11-0f02-415a-9209-4ef126c166a6\">\n",
              "    <div class=\"colab-df-container\">\n",
              "      <div>\n",
              "<style scoped>\n",
              "    .dataframe tbody tr th:only-of-type {\n",
              "        vertical-align: middle;\n",
              "    }\n",
              "\n",
              "    .dataframe tbody tr th {\n",
              "        vertical-align: top;\n",
              "    }\n",
              "\n",
              "    .dataframe thead th {\n",
              "        text-align: right;\n",
              "    }\n",
              "</style>\n",
              "<table border=\"1\" class=\"dataframe\">\n",
              "  <thead>\n",
              "    <tr style=\"text-align: right;\">\n",
              "      <th></th>\n",
              "      <th>airline_sentiment</th>\n",
              "      <th>text</th>\n",
              "      <th>target</th>\n",
              "    </tr>\n",
              "  </thead>\n",
              "  <tbody>\n",
              "    <tr>\n",
              "      <th>1</th>\n",
              "      <td>positive</td>\n",
              "      <td>@VirginAmerica plus you've added commercials t...</td>\n",
              "      <td>1</td>\n",
              "    </tr>\n",
              "    <tr>\n",
              "      <th>3</th>\n",
              "      <td>negative</td>\n",
              "      <td>@VirginAmerica it's really aggressive to blast...</td>\n",
              "      <td>0</td>\n",
              "    </tr>\n",
              "    <tr>\n",
              "      <th>4</th>\n",
              "      <td>negative</td>\n",
              "      <td>@VirginAmerica and it's a really big bad thing...</td>\n",
              "      <td>0</td>\n",
              "    </tr>\n",
              "    <tr>\n",
              "      <th>5</th>\n",
              "      <td>negative</td>\n",
              "      <td>@VirginAmerica seriously would pay $30 a fligh...</td>\n",
              "      <td>0</td>\n",
              "    </tr>\n",
              "    <tr>\n",
              "      <th>6</th>\n",
              "      <td>positive</td>\n",
              "      <td>@VirginAmerica yes, nearly every time I fly VX...</td>\n",
              "      <td>1</td>\n",
              "    </tr>\n",
              "  </tbody>\n",
              "</table>\n",
              "</div>\n",
              "      <button class=\"colab-df-convert\" onclick=\"convertToInteractive('df-fe511c11-0f02-415a-9209-4ef126c166a6')\"\n",
              "              title=\"Convert this dataframe to an interactive table.\"\n",
              "              style=\"display:none;\">\n",
              "        \n",
              "  <svg xmlns=\"http://www.w3.org/2000/svg\" height=\"24px\"viewBox=\"0 0 24 24\"\n",
              "       width=\"24px\">\n",
              "    <path d=\"M0 0h24v24H0V0z\" fill=\"none\"/>\n",
              "    <path d=\"M18.56 5.44l.94 2.06.94-2.06 2.06-.94-2.06-.94-.94-2.06-.94 2.06-2.06.94zm-11 1L8.5 8.5l.94-2.06 2.06-.94-2.06-.94L8.5 2.5l-.94 2.06-2.06.94zm10 10l.94 2.06.94-2.06 2.06-.94-2.06-.94-.94-2.06-.94 2.06-2.06.94z\"/><path d=\"M17.41 7.96l-1.37-1.37c-.4-.4-.92-.59-1.43-.59-.52 0-1.04.2-1.43.59L10.3 9.45l-7.72 7.72c-.78.78-.78 2.05 0 2.83L4 21.41c.39.39.9.59 1.41.59.51 0 1.02-.2 1.41-.59l7.78-7.78 2.81-2.81c.8-.78.8-2.07 0-2.86zM5.41 20L4 18.59l7.72-7.72 1.47 1.35L5.41 20z\"/>\n",
              "  </svg>\n",
              "      </button>\n",
              "      \n",
              "  <style>\n",
              "    .colab-df-container {\n",
              "      display:flex;\n",
              "      flex-wrap:wrap;\n",
              "      gap: 12px;\n",
              "    }\n",
              "\n",
              "    .colab-df-convert {\n",
              "      background-color: #E8F0FE;\n",
              "      border: none;\n",
              "      border-radius: 50%;\n",
              "      cursor: pointer;\n",
              "      display: none;\n",
              "      fill: #1967D2;\n",
              "      height: 32px;\n",
              "      padding: 0 0 0 0;\n",
              "      width: 32px;\n",
              "    }\n",
              "\n",
              "    .colab-df-convert:hover {\n",
              "      background-color: #E2EBFA;\n",
              "      box-shadow: 0px 1px 2px rgba(60, 64, 67, 0.3), 0px 1px 3px 1px rgba(60, 64, 67, 0.15);\n",
              "      fill: #174EA6;\n",
              "    }\n",
              "\n",
              "    [theme=dark] .colab-df-convert {\n",
              "      background-color: #3B4455;\n",
              "      fill: #D2E3FC;\n",
              "    }\n",
              "\n",
              "    [theme=dark] .colab-df-convert:hover {\n",
              "      background-color: #434B5C;\n",
              "      box-shadow: 0px 1px 3px 1px rgba(0, 0, 0, 0.15);\n",
              "      filter: drop-shadow(0px 1px 2px rgba(0, 0, 0, 0.3));\n",
              "      fill: #FFFFFF;\n",
              "    }\n",
              "  </style>\n",
              "\n",
              "      <script>\n",
              "        const buttonEl =\n",
              "          document.querySelector('#df-fe511c11-0f02-415a-9209-4ef126c166a6 button.colab-df-convert');\n",
              "        buttonEl.style.display =\n",
              "          google.colab.kernel.accessAllowed ? 'block' : 'none';\n",
              "\n",
              "        async function convertToInteractive(key) {\n",
              "          const element = document.querySelector('#df-fe511c11-0f02-415a-9209-4ef126c166a6');\n",
              "          const dataTable =\n",
              "            await google.colab.kernel.invokeFunction('convertToInteractive',\n",
              "                                                     [key], {});\n",
              "          if (!dataTable) return;\n",
              "\n",
              "          const docLinkHtml = 'Like what you see? Visit the ' +\n",
              "            '<a target=\"_blank\" href=https://colab.research.google.com/notebooks/data_table.ipynb>data table notebook</a>'\n",
              "            + ' to learn more about interactive tables.';\n",
              "          element.innerHTML = '';\n",
              "          dataTable['output_type'] = 'display_data';\n",
              "          await google.colab.output.renderOutput(dataTable, element);\n",
              "          const docLink = document.createElement('div');\n",
              "          docLink.innerHTML = docLinkHtml;\n",
              "          element.appendChild(docLink);\n",
              "        }\n",
              "      </script>\n",
              "    </div>\n",
              "  </div>\n",
              "  "
            ]
          },
          "metadata": {},
          "execution_count": 11
        }
      ]
    },
    {
      "cell_type": "code",
      "source": [
        "df.shape"
      ],
      "metadata": {
        "colab": {
          "base_uri": "https://localhost:8080/"
        },
        "id": "UgrAEQGZaEwQ",
        "outputId": "c9c7e556-864f-4d83-9592-3759319d35f8"
      },
      "execution_count": 12,
      "outputs": [
        {
          "output_type": "execute_result",
          "data": {
            "text/plain": [
              "(11541, 3)"
            ]
          },
          "metadata": {},
          "execution_count": 12
        }
      ]
    },
    {
      "cell_type": "code",
      "source": [
        "df_train,df_test=train_test_split(df,random_state=42)"
      ],
      "metadata": {
        "id": "BXxUOTQdZEz7"
      },
      "execution_count": 13,
      "outputs": []
    },
    {
      "cell_type": "code",
      "source": [
        "df_train.shape"
      ],
      "metadata": {
        "colab": {
          "base_uri": "https://localhost:8080/"
        },
        "id": "RttdGIUTaJAG",
        "outputId": "7be7628b-7289-469f-f4ea-3761c4e876f8"
      },
      "execution_count": 14,
      "outputs": [
        {
          "output_type": "execute_result",
          "data": {
            "text/plain": [
              "(8655, 3)"
            ]
          },
          "metadata": {},
          "execution_count": 14
        }
      ]
    },
    {
      "cell_type": "code",
      "source": [
        "vectorizer=TfidfVectorizer(max_features=2000)\n",
        "X_train=vectorizer.fit_transform(df_train['text'])\n",
        "X_test=vectorizer.transform(df_test['text'])"
      ],
      "metadata": {
        "id": "EO3c9UfSZE2Y"
      },
      "execution_count": 15,
      "outputs": []
    },
    {
      "cell_type": "code",
      "source": [
        "X_train"
      ],
      "metadata": {
        "colab": {
          "base_uri": "https://localhost:8080/"
        },
        "id": "QGLVPdnKZlRI",
        "outputId": "eb492347-657c-426d-96ae-76bdc776ba7d"
      },
      "execution_count": 16,
      "outputs": [
        {
          "output_type": "execute_result",
          "data": {
            "text/plain": [
              "<8655x2000 sparse matrix of type '<class 'numpy.float64'>'\n",
              "\twith 131089 stored elements in Compressed Sparse Row format>"
            ]
          },
          "metadata": {},
          "execution_count": 16
        }
      ]
    },
    {
      "cell_type": "code",
      "source": [
        "#input layer cannot be sparse matrix, so converting it to array\n",
        "X_train=X_train.toarray()\n",
        "X_test=X_test.toarray()"
      ],
      "metadata": {
        "id": "Ca6C1YMGZE4u"
      },
      "execution_count": 17,
      "outputs": []
    },
    {
      "cell_type": "code",
      "source": [
        "X_train"
      ],
      "metadata": {
        "colab": {
          "base_uri": "https://localhost:8080/"
        },
        "id": "hRMc1PPiZE7T",
        "outputId": "e74510a6-f2bb-4abd-9b39-ba144f1b20c6"
      },
      "execution_count": 18,
      "outputs": [
        {
          "output_type": "execute_result",
          "data": {
            "text/plain": [
              "array([[0., 0., 0., ..., 0., 0., 0.],\n",
              "       [0., 0., 0., ..., 0., 0., 0.],\n",
              "       [0., 0., 0., ..., 0., 0., 0.],\n",
              "       ...,\n",
              "       [0., 0., 0., ..., 0., 0., 0.],\n",
              "       [0., 0., 0., ..., 0., 0., 0.],\n",
              "       [0., 0., 0., ..., 0., 0., 0.]])"
            ]
          },
          "metadata": {},
          "execution_count": 18
        }
      ]
    },
    {
      "cell_type": "code",
      "source": [
        "D=X_train.shape[1]"
      ],
      "metadata": {
        "id": "SVHNevPtZqqQ"
      },
      "execution_count": 19,
      "outputs": []
    },
    {
      "cell_type": "code",
      "source": [
        "i=Input(shape=(D,))\n",
        "x=Dense(1)(i)\n",
        "model=Model(i,x)"
      ],
      "metadata": {
        "id": "oB_hdInGZq1g"
      },
      "execution_count": 20,
      "outputs": []
    },
    {
      "cell_type": "code",
      "source": [
        "model.summary()\n",
        "#we have 2000 inputs and on top we have a bias term"
      ],
      "metadata": {
        "colab": {
          "base_uri": "https://localhost:8080/"
        },
        "id": "3wl8Me08Z_ER",
        "outputId": "45895c7f-c0c3-4e3c-be6a-9e53077bdea5"
      },
      "execution_count": 21,
      "outputs": [
        {
          "output_type": "stream",
          "name": "stdout",
          "text": [
            "Model: \"model\"\n",
            "_________________________________________________________________\n",
            " Layer (type)                Output Shape              Param #   \n",
            "=================================================================\n",
            " input_1 (InputLayer)        [(None, 2000)]            0         \n",
            "                                                                 \n",
            " dense (Dense)               (None, 1)                 2001      \n",
            "                                                                 \n",
            "=================================================================\n",
            "Total params: 2,001\n",
            "Trainable params: 2,001\n",
            "Non-trainable params: 0\n",
            "_________________________________________________________________\n"
          ]
        }
      ]
    },
    {
      "cell_type": "code",
      "source": [
        "model.compile(\n",
        "    loss=BinaryCrossentropy(from_logits=True),\n",
        "    optimizer=Adam(learning_rate=.01),\n",
        "    metrics=['accuracy']\n",
        ")"
      ],
      "metadata": {
        "id": "qMceVFMyZ_Gz"
      },
      "execution_count": 22,
      "outputs": []
    },
    {
      "cell_type": "code",
      "source": [
        "y_train=df_train['target']\n",
        "y_test=df_test['target']"
      ],
      "metadata": {
        "id": "Ux02usIYZ_MA"
      },
      "execution_count": 23,
      "outputs": []
    },
    {
      "cell_type": "code",
      "source": [
        "r=model.fit(\n",
        "    X_train,y_train,\n",
        "    validation_data=(X_test,y_test),\n",
        "    epochs=40,\n",
        "    batch_size=128\n",
        ")"
      ],
      "metadata": {
        "colab": {
          "base_uri": "https://localhost:8080/"
        },
        "id": "ieqO12nSZ_O3",
        "outputId": "0f3fe19b-8a12-45af-fb68-0c18086bd990"
      },
      "execution_count": 24,
      "outputs": [
        {
          "output_type": "stream",
          "name": "stdout",
          "text": [
            "Epoch 1/40\n",
            "68/68 [==============================] - 3s 15ms/step - loss: 0.5048 - accuracy: 0.7920 - val_loss: 0.3978 - val_accuracy: 0.8049\n",
            "Epoch 2/40\n",
            "68/68 [==============================] - 1s 10ms/step - loss: 0.3761 - accuracy: 0.7963 - val_loss: 0.3396 - val_accuracy: 0.8212\n",
            "Epoch 3/40\n",
            "68/68 [==============================] - 1s 13ms/step - loss: 0.3224 - accuracy: 0.8180 - val_loss: 0.3029 - val_accuracy: 0.8416\n",
            "Epoch 4/40\n",
            "68/68 [==============================] - 1s 20ms/step - loss: 0.2852 - accuracy: 0.8451 - val_loss: 0.2770 - val_accuracy: 0.8607\n",
            "Epoch 5/40\n",
            "68/68 [==============================] - 1s 12ms/step - loss: 0.2577 - accuracy: 0.8640 - val_loss: 0.2583 - val_accuracy: 0.8766\n",
            "Epoch 6/40\n",
            "68/68 [==============================] - 1s 11ms/step - loss: 0.2368 - accuracy: 0.8805 - val_loss: 0.2445 - val_accuracy: 0.8881\n",
            "Epoch 7/40\n",
            "68/68 [==============================] - 1s 9ms/step - loss: 0.2203 - accuracy: 0.8923 - val_loss: 0.2337 - val_accuracy: 0.9002\n",
            "Epoch 8/40\n",
            "68/68 [==============================] - 0s 4ms/step - loss: 0.2069 - accuracy: 0.9025 - val_loss: 0.2248 - val_accuracy: 0.9044\n",
            "Epoch 9/40\n",
            "68/68 [==============================] - 0s 4ms/step - loss: 0.1957 - accuracy: 0.9100 - val_loss: 0.2181 - val_accuracy: 0.9082\n",
            "Epoch 10/40\n",
            "68/68 [==============================] - 0s 4ms/step - loss: 0.1861 - accuracy: 0.9148 - val_loss: 0.2126 - val_accuracy: 0.9106\n",
            "Epoch 11/40\n",
            "68/68 [==============================] - 0s 4ms/step - loss: 0.1778 - accuracy: 0.9196 - val_loss: 0.2080 - val_accuracy: 0.9134\n",
            "Epoch 12/40\n",
            "68/68 [==============================] - 0s 5ms/step - loss: 0.1706 - accuracy: 0.9239 - val_loss: 0.2043 - val_accuracy: 0.9148\n",
            "Epoch 13/40\n",
            "68/68 [==============================] - 0s 4ms/step - loss: 0.1642 - accuracy: 0.9264 - val_loss: 0.2014 - val_accuracy: 0.9179\n",
            "Epoch 14/40\n",
            "68/68 [==============================] - 0s 4ms/step - loss: 0.1585 - accuracy: 0.9311 - val_loss: 0.1987 - val_accuracy: 0.9193\n",
            "Epoch 15/40\n",
            "68/68 [==============================] - 0s 4ms/step - loss: 0.1534 - accuracy: 0.9337 - val_loss: 0.1965 - val_accuracy: 0.9200\n",
            "Epoch 16/40\n",
            "68/68 [==============================] - 0s 4ms/step - loss: 0.1486 - accuracy: 0.9358 - val_loss: 0.1948 - val_accuracy: 0.9210\n",
            "Epoch 17/40\n",
            "68/68 [==============================] - 0s 4ms/step - loss: 0.1444 - accuracy: 0.9389 - val_loss: 0.1933 - val_accuracy: 0.9217\n",
            "Epoch 18/40\n",
            "68/68 [==============================] - 0s 4ms/step - loss: 0.1405 - accuracy: 0.9420 - val_loss: 0.1920 - val_accuracy: 0.9207\n",
            "Epoch 19/40\n",
            "68/68 [==============================] - 0s 4ms/step - loss: 0.1368 - accuracy: 0.9423 - val_loss: 0.1909 - val_accuracy: 0.9217\n",
            "Epoch 20/40\n",
            "68/68 [==============================] - 0s 4ms/step - loss: 0.1335 - accuracy: 0.9434 - val_loss: 0.1901 - val_accuracy: 0.9213\n",
            "Epoch 21/40\n",
            "68/68 [==============================] - 0s 4ms/step - loss: 0.1303 - accuracy: 0.9444 - val_loss: 0.1893 - val_accuracy: 0.9220\n",
            "Epoch 22/40\n",
            "68/68 [==============================] - 0s 4ms/step - loss: 0.1275 - accuracy: 0.9467 - val_loss: 0.1890 - val_accuracy: 0.9217\n",
            "Epoch 23/40\n",
            "68/68 [==============================] - 0s 4ms/step - loss: 0.1246 - accuracy: 0.9478 - val_loss: 0.1886 - val_accuracy: 0.9231\n",
            "Epoch 24/40\n",
            "68/68 [==============================] - 0s 4ms/step - loss: 0.1221 - accuracy: 0.9508 - val_loss: 0.1884 - val_accuracy: 0.9220\n",
            "Epoch 25/40\n",
            "68/68 [==============================] - 0s 4ms/step - loss: 0.1196 - accuracy: 0.9497 - val_loss: 0.1882 - val_accuracy: 0.9234\n",
            "Epoch 26/40\n",
            "68/68 [==============================] - 0s 4ms/step - loss: 0.1174 - accuracy: 0.9522 - val_loss: 0.1881 - val_accuracy: 0.9241\n",
            "Epoch 27/40\n",
            "68/68 [==============================] - 0s 4ms/step - loss: 0.1152 - accuracy: 0.9542 - val_loss: 0.1883 - val_accuracy: 0.9252\n",
            "Epoch 28/40\n",
            "68/68 [==============================] - 0s 4ms/step - loss: 0.1131 - accuracy: 0.9534 - val_loss: 0.1883 - val_accuracy: 0.9252\n",
            "Epoch 29/40\n",
            "68/68 [==============================] - 0s 4ms/step - loss: 0.1111 - accuracy: 0.9566 - val_loss: 0.1886 - val_accuracy: 0.9252\n",
            "Epoch 30/40\n",
            "68/68 [==============================] - 0s 4ms/step - loss: 0.1093 - accuracy: 0.9552 - val_loss: 0.1887 - val_accuracy: 0.9255\n",
            "Epoch 31/40\n",
            "68/68 [==============================] - 0s 4ms/step - loss: 0.1075 - accuracy: 0.9571 - val_loss: 0.1891 - val_accuracy: 0.9252\n",
            "Epoch 32/40\n",
            "68/68 [==============================] - 0s 4ms/step - loss: 0.1058 - accuracy: 0.9582 - val_loss: 0.1895 - val_accuracy: 0.9248\n",
            "Epoch 33/40\n",
            "68/68 [==============================] - 0s 4ms/step - loss: 0.1041 - accuracy: 0.9596 - val_loss: 0.1898 - val_accuracy: 0.9245\n",
            "Epoch 34/40\n",
            "68/68 [==============================] - 0s 4ms/step - loss: 0.1025 - accuracy: 0.9599 - val_loss: 0.1903 - val_accuracy: 0.9238\n",
            "Epoch 35/40\n",
            "68/68 [==============================] - 0s 5ms/step - loss: 0.1010 - accuracy: 0.9601 - val_loss: 0.1909 - val_accuracy: 0.9238\n",
            "Epoch 36/40\n",
            "68/68 [==============================] - 0s 4ms/step - loss: 0.0996 - accuracy: 0.9615 - val_loss: 0.1914 - val_accuracy: 0.9234\n",
            "Epoch 37/40\n",
            "68/68 [==============================] - 0s 7ms/step - loss: 0.0982 - accuracy: 0.9623 - val_loss: 0.1921 - val_accuracy: 0.9227\n",
            "Epoch 38/40\n",
            "68/68 [==============================] - 1s 8ms/step - loss: 0.0969 - accuracy: 0.9631 - val_loss: 0.1927 - val_accuracy: 0.9231\n",
            "Epoch 39/40\n",
            "68/68 [==============================] - 1s 8ms/step - loss: 0.0956 - accuracy: 0.9633 - val_loss: 0.1931 - val_accuracy: 0.9220\n",
            "Epoch 40/40\n",
            "68/68 [==============================] - 0s 7ms/step - loss: 0.0943 - accuracy: 0.9651 - val_loss: 0.1940 - val_accuracy: 0.9224\n"
          ]
        }
      ]
    },
    {
      "cell_type": "code",
      "source": [
        "plt.plot(r.history['loss'],label='loss')\n",
        "plt.plot(r.history['val_loss'],label='val loss')\n",
        "plt.legend()"
      ],
      "metadata": {
        "colab": {
          "base_uri": "https://localhost:8080/",
          "height": 283
        },
        "id": "PlcQQambbKjl",
        "outputId": "93507a68-c8a2-4933-d15c-bb904ff3c186"
      },
      "execution_count": 25,
      "outputs": [
        {
          "output_type": "execute_result",
          "data": {
            "text/plain": [
              "<matplotlib.legend.Legend at 0x7f7266f9d7f0>"
            ]
          },
          "metadata": {},
          "execution_count": 25
        },
        {
          "output_type": "display_data",
          "data": {
            "text/plain": [
              "<Figure size 432x288 with 1 Axes>"
            ],
            "image/png": "[encoded data removed]"
          },
          "metadata": {
            "needs_background": "light"
          }
        }
      ]
    },
    {
      "cell_type": "code",
      "source": [
        "plt.plot(r.history['accuracy'],label='train acc')\n",
        "plt.plot(r.history['val_accuracy'], label='val acc')\n",
        "plt.legend()"
      ],
      "metadata": {
        "colab": {
          "base_uri": "https://localhost:8080/",
          "height": 283
        },
        "id": "O8Oe9XZ4bKos",
        "outputId": "2944d151-c508-4487-cf9c-7d1b4feb5d99"
      },
      "execution_count": 26,
      "outputs": [
        {
          "output_type": "execute_result",
          "data": {
            "text/plain": [
              "<matplotlib.legend.Legend at 0x7f7266f3cb20>"
            ]
          },
          "metadata": {},
          "execution_count": 26
        },
        {
          "output_type": "display_data",
          "data": {
            "text/plain": [
              "<Figure size 432x288 with 1 Axes>"
            ],
            "image/png": "[encoded data removed]"
          },
          "metadata": {
            "needs_background": "light"
          }
        }
      ]
    },
    {
      "cell_type": "code",
      "source": [
        "P_train=((model.predict(X_train)>0)*1.0).flatten()\n",
        "P_test=((model.predict(X_test)>0)*1.0).flatten()"
      ],
      "metadata": {
        "colab": {
          "base_uri": "https://localhost:8080/"
        },
        "id": "vbUT_ILRZ_Qr",
        "outputId": "ba48d322-b5ea-4c3c-9a5f-f8f8a8249e88"
      },
      "execution_count": 27,
      "outputs": [
        {
          "output_type": "stream",
          "name": "stdout",
          "text": [
            "271/271 [==============================] - 1s 2ms/step\n",
            "91/91 [==============================] - 0s 2ms/step\n"
          ]
        }
      ]
    },
    {
      "cell_type": "code",
      "source": [
        "cm=confusion_matrix(y_train,P_train,normalize='true')\n",
        "cm"
      ],
      "metadata": {
        "colab": {
          "base_uri": "https://localhost:8080/"
        },
        "id": "UwcLrsmCC7e5",
        "outputId": "cfa23e69-bcf6-4216-c4ce-b388aea28d71"
      },
      "execution_count": 28,
      "outputs": [
        {
          "output_type": "execute_result",
          "data": {
            "text/plain": [
              "array([[0.99095551, 0.00904449],\n",
              "       [0.09833333, 0.90166667]])"
            ]
          },
          "metadata": {},
          "execution_count": 28
        }
      ]
    },
    {
      "cell_type": "code",
      "source": [
        "sns.heatmap(cm,annot=True)"
      ],
      "metadata": {
        "colab": {
          "base_uri": "https://localhost:8080/",
          "height": 283
        },
        "id": "ZbKYdgZhC7h4",
        "outputId": "1de0e4a4-c5aa-472b-98c6-38574d9002a1"
      },
      "execution_count": 29,
      "outputs": [
        {
          "output_type": "execute_result",
          "data": {
            "text/plain": [
              "<AxesSubplot:>"
            ]
          },
          "metadata": {},
          "execution_count": 29
        },
        {
          "output_type": "display_data",
          "data": {
            "text/plain": [
              "<Figure size 432x288 with 2 Axes>"
            ],
            "image/png": "[encoded data removed]"
          },
          "metadata": {
            "needs_background": "light"
          }
        }
      ]
    },
    {
      "cell_type": "code",
      "source": [
        "cm_test=confusion_matrix(y_test,P_test,normalize='true')\n",
        "sns.heatmap(cm_test,annot=True)"
      ],
      "metadata": {
        "colab": {
          "base_uri": "https://localhost:8080/",
          "height": 283
        },
        "id": "5PpwRCkxC7kl",
        "outputId": "39003b11-716e-4ece-cddd-c7f5ae9c6068"
      },
      "execution_count": 30,
      "outputs": [
        {
          "output_type": "execute_result",
          "data": {
            "text/plain": [
              "<AxesSubplot:>"
            ]
          },
          "metadata": {},
          "execution_count": 30
        },
        {
          "output_type": "display_data",
          "data": {
            "text/plain": [
              "<Figure size 432x288 with 2 Axes>"
            ],
            "image/png": "[encoded data removed]"
          },
          "metadata": {
            "needs_background": "light"
          }
        }
      ]
    },
    {
      "cell_type": "code",
      "source": [
        "Pr_train=model.predict(X_train)\n",
        "Pr_test=model.predict(X_test)\n",
        "print('Train AUC:',roc_auc_score(y_train,Pr_train))\n",
        "print('Test AUC:',roc_auc_score(y_test,Pr_test))"
      ],
      "metadata": {
        "colab": {
          "base_uri": "https://localhost:8080/"
        },
        "id": "-_OKfSIfC7nI",
        "outputId": "c02069e8-319a-4270-859c-de35a6b810d2"
      },
      "execution_count": 31,
      "outputs": [
        {
          "output_type": "stream",
          "name": "stdout",
          "text": [
            "271/271 [==============================] - 0s 2ms/step\n",
            "91/91 [==============================] - 0s 2ms/step\n",
            "Train AUC: 0.9950039711483912\n",
            "Test AUC: 0.9547310125251462\n"
          ]
        }
      ]
    },
    {
      "cell_type": "code",
      "source": [
        "print('Train F1:',f1_score(y_train,P_train))\n",
        "print('Test F1:',f1_score(y_test,P_test))"
      ],
      "metadata": {
        "colab": {
          "base_uri": "https://localhost:8080/"
        },
        "id": "W2xBuFR6C7p_",
        "outputId": "fb0c91e2-eefe-4e8f-ee48-79f8bdf5d5b9"
      },
      "execution_count": 32,
      "outputs": [
        {
          "output_type": "stream",
          "name": "stdout",
          "text": [
            "Train F1: 0.9314203730272597\n",
            "Test F1: 0.7917059377945335\n"
          ]
        }
      ]
    },
    {
      "cell_type": "code",
      "source": [
        "model.layers"
      ],
      "metadata": {
        "colab": {
          "base_uri": "https://localhost:8080/"
        },
        "id": "TdSPc8iSFUSA",
        "outputId": "1a313e3c-5239-4a3b-db90-e7965019d53a"
      },
      "execution_count": 33,
      "outputs": [
        {
          "output_type": "execute_result",
          "data": {
            "text/plain": [
              "[<keras.engine.input_layer.InputLayer at 0x7f7278cd90a0>,\n",
              " <keras.layers.core.dense.Dense at 0x7f7278cd63a0>]"
            ]
          },
          "metadata": {},
          "execution_count": 33
        }
      ]
    },
    {
      "cell_type": "code",
      "source": [
        "w=model.layers[1].get_weights()[0]"
      ],
      "metadata": {
        "id": "FEezQx3XFUcZ"
      },
      "execution_count": 34,
      "outputs": []
    },
    {
      "cell_type": "code",
      "source": [
        "word_index_map=vectorizer.vocabulary_\n",
        "word_index_map"
      ],
      "metadata": {
        "colab": {
          "base_uri": "https://localhost:8080/"
        },
        "id": "Di9a1G8lFUie",
        "outputId": "e0d04dbc-ba44-49c0-cec6-0c8f7de142f0"
      },
      "execution_count": 35,
      "outputs": [
        {
          "output_type": "execute_result",
          "data": {
            "text/plain": [
              "{'jetblue': 973,\n",
              " 'thanks': 1726,\n",
              " 'for': 753,\n",
              " 'having': 855,\n",
              " 'us': 1859,\n",
              " 'hang': 838,\n",
              " 'out': 1262,\n",
              " 'at': 197,\n",
              " 'tampa': 1708,\n",
              " 'airport': 122,\n",
              " 'forever': 756,\n",
              " 'today': 1767,\n",
              " 'it': 964,\n",
              " 'really': 1420,\n",
              " 'been': 243,\n",
              " 'an': 147,\n",
              " 'awesome': 217,\n",
              " 'experience': 654,\n",
              " 'americanair': 143,\n",
              " 'was': 1898,\n",
              " 'told': 1770,\n",
              " 'you': 1993,\n",
              " 'could': 452,\n",
              " 'only': 1245,\n",
              " 'refund': 1434,\n",
              " 'me': 1107,\n",
              " 'the': 1730,\n",
              " 'cost': 448,\n",
              " 'of': 1224,\n",
              " 'my': 1179,\n",
              " 'original': 1254,\n",
              " 'return': 1476,\n",
              " 'flight': 726,\n",
              " 'note': 1211,\n",
              " 'had': 828,\n",
              " 'booked': 273,\n",
              " 'more': 1164,\n",
              " 'expensive': 653,\n",
              " 'everyone': 635,\n",
              " 'else': 602,\n",
              " 'outstanding': 1267,\n",
              " 'united': 1842,\n",
              " 'denver': 516,\n",
              " 'to': 1766,\n",
              " 'austin': 207,\n",
              " 'still': 1660,\n",
              " 'on': 1239,\n",
              " 'ground': 820,\n",
              " 'issue': 961,\n",
              " 'is': 959,\n",
              " 'lack': 999,\n",
              " 'announcement': 151,\n",
              " 'made': 1086,\n",
              " 'so': 1606,\n",
              " 'late': 1010,\n",
              " 'when': 1929,\n",
              " 'gate': 793,\n",
              " 'agent': 113,\n",
              " 'there': 1734,\n",
              " 'over': 1268,\n",
              " 'hour': 897,\n",
              " 'southwestair': 1626,\n",
              " 'hold': 880,\n",
              " '30': 36,\n",
              " 'min': 1141,\n",
              " 'trying': 1808,\n",
              " 'rebook': 1423,\n",
              " 'cancelled': 314,\n",
              " 'flightled': 734,\n",
              " 'help': 867,\n",
              " 'from': 773,\n",
              " 'phl': 1309,\n",
              " 'dal': 485,\n",
              " 'rebooked': 1424,\n",
              " 'tomorrow': 1771,\n",
              " 'now': 1217,\n",
              " 'that': 1728,\n",
              " 'again': 111,\n",
              " 'usairways': 1861,\n",
              " 'phone': 1312,\n",
              " 'called': 308,\n",
              " 'number': 1218,\n",
              " 'and': 148,\n",
              " 'she': 1560,\n",
              " 'picked': 1317,\n",
              " 'up': 1850,\n",
              " 'almost': 131,\n",
              " 'immediately': 926,\n",
              " 'just': 980,\n",
              " 'sent': 1545,\n",
              " 'another': 154,\n",
              " 'drink': 579,\n",
              " 'think': 1739,\n",
              " 'have': 853,\n",
              " 'free': 765,\n",
              " 'drinks': 580,\n",
              " 'anyone': 161,\n",
              " 'guys': 826,\n",
              " 'off': 1225,\n",
              " 'if': 921,\n",
              " 'every': 634,\n",
              " 'employees': 609,\n",
              " 'would': 1971,\n",
              " 'making': 1093,\n",
              " 'effort': 600,\n",
              " 'credit': 467,\n",
              " 'where': 1930,\n",
              " 'due': 586,\n",
              " 'delayed': 507,\n",
              " 'hours': 898,\n",
              " 'instead': 951,\n",
              " 've': 1873,\n",
              " '55': 58,\n",
              " 'mins': 1145,\n",
              " 'about': 78,\n",
              " 'flighted': 730,\n",
              " 'international': 953,\n",
              " 'am': 139,\n",
              " 'country': 458,\n",
              " 'can': 313,\n",
              " 'leave': 1016,\n",
              " 'call': 306,\n",
              " 'back': 221,\n",
              " 'got': 816,\n",
              " 'worked': 1959,\n",
              " 'trip': 1800,\n",
              " 'pay': 1294,\n",
              " 'extra': 664,\n",
              " 'though': 1746,\n",
              " 'not': 1209,\n",
              " 'easy': 597,\n",
              " 'poor': 1349,\n",
              " 'did': 537,\n",
              " 'report': 1452,\n",
              " 'updated': 1852,\n",
              " 'info': 945,\n",
              " 'don': 571,\n",
              " 'know': 993,\n",
              " 'how': 901,\n",
              " 'reach': 1414,\n",
              " 'them': 1732,\n",
              " 'without': 1949,\n",
              " 'super': 1681,\n",
              " 'long': 1058,\n",
              " 'wait': 1886,\n",
              " 'your': 1995,\n",
              " 'main': 1088,\n",
              " 'use': 1863,\n",
              " 'voucher': 1884,\n",
              " 'book': 272,\n",
              " 'last': 1009,\n",
              " 'lines': 1041,\n",
              " 'are': 175,\n",
              " 'busy': 297,\n",
              " 'may': 1103,\n",
              " 'go': 808,\n",
              " 'wife': 1939,\n",
              " 'flt': 742,\n",
              " 'via': 1876,\n",
              " 'dfw': 534,\n",
              " 'bought': 279,\n",
              " 'swa': 1691,\n",
              " 'get': 798,\n",
              " 'her': 871,\n",
              " 'home': 883,\n",
              " 'dm': 561,\n",
              " 'plz': 1342,\n",
              " 'course': 460,\n",
              " 'but': 298,\n",
              " 'they': 1736,\n",
              " 'were': 1921,\n",
              " 'as': 185,\n",
              " 'why': 1937,\n",
              " 'getting': 800,\n",
              " 'put': 1397,\n",
              " 'by': 302,\n",
              " 'people': 1300,\n",
              " 'calling': 309,\n",
              " 'platinum': 1333,\n",
              " 'desk': 528,\n",
              " 'thankfully': 1725,\n",
              " 'lounge': 1070,\n",
              " 'next': 1196,\n",
              " 'door': 574,\n",
              " 'impressed': 929,\n",
              " 'thank': 1724,\n",
              " 'with': 1947,\n",
              " 'passbook': 1284,\n",
              " 'all': 126,\n",
              " 'works': 1962,\n",
              " 'much': 1175,\n",
              " 'better': 251,\n",
              " 'happening': 843,\n",
              " 'delta': 513,\n",
              " 'took': 1774,\n",
              " 'care': 322,\n",
              " 'purchase': 1394,\n",
              " 'ticket': 1754,\n",
              " 'check': 359,\n",
              " 'in': 932,\n",
              " 'bag': 225,\n",
              " 'however': 902,\n",
              " 'being': 246,\n",
              " 'charged': 352,\n",
              " '25': 29,\n",
              " 'dollars': 569,\n",
              " 'domestic': 570,\n",
              " 'heard': 862,\n",
              " 'charge': 351,\n",
              " '1st': 19,\n",
              " 'seats': 1530,\n",
              " 'no': 1202,\n",
              " 'need': 1188,\n",
              " 'be': 238,\n",
              " 'loyal': 1078,\n",
              " 'jb': 971,\n",
              " 'customer': 478,\n",
              " 'anymore': 160,\n",
              " 'already': 134,\n",
              " 'spoke': 1637,\n",
              " 'line': 1040,\n",
              " 'support': 1683,\n",
              " 'wasn': 1899,\n",
              " 'delay': 506,\n",
              " 'engine': 613,\n",
              " 'needed': 1189,\n",
              " 'makes': 1092,\n",
              " 'person': 1305,\n",
              " 'stand': 1643,\n",
              " 'pilot': 1319,\n",
              " 'or': 1251,\n",
              " 'paperwork': 1279,\n",
              " 'fix': 720,\n",
              " 'problem': 1376,\n",
              " 'fixed': 721,\n",
              " 'ago': 115,\n",
              " 'set': 1552,\n",
              " 'days': 493,\n",
              " 'hoping': 890,\n",
              " 'won': 1951,\n",
              " 'filled': 707,\n",
              " 'because': 241,\n",
              " 'link': 1042,\n",
              " 'doesn': 565,\n",
              " 'work': 1958,\n",
              " 'amp': 146,\n",
              " 'asked': 189,\n",
              " 'many': 1098,\n",
              " 'questions': 1402,\n",
              " 'might': 1135,\n",
              " 'should': 1566,\n",
              " 'seattle': 1531,\n",
              " 'strand': 1667,\n",
              " 'someone': 1614,\n",
              " 'city': 372,\n",
              " 'luggage': 1083,\n",
              " 'aa': 74,\n",
              " 'want': 1894,\n",
              " 'earn': 593,\n",
              " 'business': 296,\n",
              " 'guess': 823,\n",
              " 'needs': 1190,\n",
              " 'their': 1731,\n",
              " 'shit': 1561,\n",
              " 'together': 1769,\n",
              " 'counter': 456,\n",
              " 'catch': 330,\n",
              " 'flights': 737,\n",
              " 'http': 905,\n",
              " 'co': 388,\n",
              " 'passengers': 1287,\n",
              " 'sitting': 1586,\n",
              " 'plane': 1326,\n",
              " 'two': 1820,\n",
              " 'cmh': 386,\n",
              " 'other': 1258,\n",
              " 'left': 1019,\n",
              " 'usairwaysfail': 1862,\n",
              " 'hrs': 904,\n",
              " 'months': 1163,\n",
              " 'supposed': 1685,\n",
              " 'mom': 1157,\n",
              " 'whose': 1936,\n",
              " 'very': 1875,\n",
              " 'upset': 1857,\n",
              " 'crews': 469,\n",
              " 'surprised': 1688,\n",
              " 'arrive': 180,\n",
              " 'fuck': 779,\n",
              " 'this': 1742,\n",
              " 'will': 1941,\n",
              " 'never': 1191,\n",
              " 'bad': 222,\n",
              " 'weather': 1910,\n",
              " 'multiple': 1176,\n",
              " 'has': 848,\n",
              " 'time': 1759,\n",
              " 'reservation': 1464,\n",
              " 'cant': 318,\n",
              " 'through': 1749,\n",
              " 'woman': 1950,\n",
              " 'who': 1933,\n",
              " 'working': 1961,\n",
              " 'find': 710,\n",
              " 'tonight': 1772,\n",
              " 'exec': 647,\n",
              " 'online': 1244,\n",
              " 'clear': 378,\n",
              " 'amazing': 140,\n",
              " 'officially': 1230,\n",
              " 'favorite': 689,\n",
              " 'airline': 119,\n",
              " 'day': 492,\n",
              " 'like': 1037,\n",
              " 'waited': 1887,\n",
              " 'bags': 227,\n",
              " 'coming': 399,\n",
              " 'ahead': 116,\n",
              " 'live': 1047,\n",
              " 'premium': 1365,\n",
              " 'route': 1490,\n",
              " 'lhr': 1031,\n",
              " 'well': 1919,\n",
              " 'didn': 538,\n",
              " 'then': 1733,\n",
              " 'airplane': 121,\n",
              " 'worst': 1968,\n",
              " 'fly': 743,\n",
              " 'ever': 633,\n",
              " 'train': 1785,\n",
              " 'attendants': 203,\n",
              " 'monday': 1160,\n",
              " 're': 1413,\n",
              " 'haven': 854,\n",
              " 'any': 159,\n",
              " 'idea': 919,\n",
              " 'what': 1925,\n",
              " '200': 21,\n",
              " 'couldn': 453,\n",
              " 'even': 630,\n",
              " 'give': 802,\n",
              " 'food': 752,\n",
              " 'comp': 404,\n",
              " 'take': 1700,\n",
              " 'stranded': 1668,\n",
              " 'flying': 747,\n",
              " 'new': 1193,\n",
              " 'we': 1909,\n",
              " 'stuck': 1669,\n",
              " 'rather': 1411,\n",
              " 'than': 1723,\n",
              " 'broken': 285,\n",
              " 'charlotte': 356,\n",
              " 'service': 1550,\n",
              " 'agents': 114,\n",
              " 'kind': 990,\n",
              " 'way': 1907,\n",
              " 'hopefully': 889,\n",
              " 'future': 789,\n",
              " 'different': 542,\n",
              " 'procedure': 1378,\n",
              " 'car': 320,\n",
              " 'seat': 1527,\n",
              " 'lost': 1067,\n",
              " 'reimburse': 1440,\n",
              " 'one': 1242,\n",
              " 'child': 367,\n",
              " 'baggage': 226,\n",
              " 'handlers': 835,\n",
              " 'totally': 1777,\n",
              " 'our': 1261,\n",
              " 'barely': 230,\n",
              " 'run': 1502,\n",
              " 'connect': 431,\n",
              " 'den': 514,\n",
              " 'came': 311,\n",
              " 'mail': 1087,\n",
              " 'early': 592,\n",
              " 'bird': 258,\n",
              " 'great': 819,\n",
              " 'first': 716,\n",
              " 'crew': 468,\n",
              " 'takes': 1703,\n",
              " 'overhead': 1270,\n",
              " 'bin': 256,\n",
              " 'space': 1627,\n",
              " 'paying': 1295,\n",
              " 'customers': 479,\n",
              " 'annoyed': 152,\n",
              " 'stay': 1655,\n",
              " 'please': 1336,\n",
              " 'which': 1931,\n",
              " 'name': 1182,\n",
              " 'tag': 1699,\n",
              " '11': 6,\n",
              " 'planes': 1327,\n",
              " '50': 55,\n",
              " 'its': 968,\n",
              " '10': 2,\n",
              " '20': 20,\n",
              " 'tarmac': 1709,\n",
              " 'going': 811,\n",
              " 'compensate': 408,\n",
              " 'companion': 405,\n",
              " 'pass': 1283,\n",
              " 'ridiculous': 1482,\n",
              " 'hadn': 829,\n",
              " 'stopped': 1663,\n",
              " 'hotels': 896,\n",
              " 'non': 1204,\n",
              " 'solve': 1610,\n",
              " 'miss': 1151,\n",
              " 'funeral': 786,\n",
              " 'suck': 1674,\n",
              " 'newark': 1194,\n",
              " 'checked': 360,\n",
              " 'under': 1833,\n",
              " 'too': 1773,\n",
              " 'happy': 845,\n",
              " 'enter': 617,\n",
              " 'hey': 873,\n",
              " 'remember': 1445,\n",
              " 'do': 563,\n",
              " 'email': 603,\n",
              " 'gotten': 818,\n",
              " 'yet': 1990,\n",
              " 'delays': 509,\n",
              " 'little': 1046,\n",
              " 'communication': 403,\n",
              " 'goes': 810,\n",
              " 'nice': 1198,\n",
              " 'routes': 1491,\n",
              " 'jet': 972,\n",
              " 'blue': 265,\n",
              " 'southwest': 1625,\n",
              " 'least': 1015,\n",
              " 'treat': 1796,\n",
              " 'properly': 1387,\n",
              " 'heads': 860,\n",
              " 'arrived': 181,\n",
              " 'those': 1745,\n",
              " 'aren': 177,\n",
              " 'claim': 373,\n",
              " 'point': 1344,\n",
              " 'gt': 822,\n",
              " 'after': 109,\n",
              " 'planned': 1328,\n",
              " 'departure': 521,\n",
              " 'california': 305,\n",
              " 'here': 872,\n",
              " 'originally': 1255,\n",
              " 'keeping': 983,\n",
              " 'safe': 1507,\n",
              " 'sister': 1583,\n",
              " 'reply': 1450,\n",
              " 'ur': 1858,\n",
              " 'services': 1551,\n",
              " '18': 15,\n",
              " 'response': 1473,\n",
              " 'lousy': 1071,\n",
              " 'unitedairlines': 1843,\n",
              " 'following': 751,\n",
              " 'ice': 915,\n",
              " 'front': 774,\n",
              " 'landed': 1004,\n",
              " 'information': 946,\n",
              " 'saw': 1517,\n",
              " 'helpful': 869,\n",
              " 'specific': 1631,\n",
              " 'cs': 473,\n",
              " 'look': 1060,\n",
              " 'apologize': 167,\n",
              " 'trouble': 1802,\n",
              " 'buffalo': 291,\n",
              " 'jfk': 975,\n",
              " 'figured': 703,\n",
              " 'anything': 162,\n",
              " 'make': 1091,\n",
              " 'll': 1049,\n",
              " 'excuses': 646,\n",
              " 'hi': 874,\n",
              " 'im': 923,\n",
              " 'speak': 1628,\n",
              " 'travel': 1790,\n",
              " 'minor': 1144,\n",
              " 'keeps': 984,\n",
              " 'advise': 106,\n",
              " 'website': 1912,\n",
              " 'wont': 1955,\n",
              " 'allow': 128,\n",
              " 'thx': 1753,\n",
              " 'social': 1607,\n",
              " 'media': 1114,\n",
              " 'memphis': 1120,\n",
              " 'something': 1615,\n",
              " 'also': 135,\n",
              " 'useless': 1866,\n",
              " 'canned': 316,\n",
              " '1k': 18,\n",
              " 'let': 1025,\n",
              " 'kids': 988,\n",
              " 'board': 268,\n",
              " 'wish': 1946,\n",
              " 'team': 1712,\n",
              " 'member': 1118,\n",
              " 'pick': 1316,\n",
              " 'alone': 132,\n",
              " 'clt': 383,\n",
              " 'gonna': 814,\n",
              " 'connection': 434,\n",
              " 'ua': 1824,\n",
              " 'change': 345,\n",
              " 'music': 1177,\n",
              " 'leaving': 1018,\n",
              " 'morning': 1165,\n",
              " 'auto': 208,\n",
              " 'tuesday': 1810,\n",
              " 'night': 1199,\n",
              " 'horrendous': 891,\n",
              " 'flown': 741,\n",
              " 'come': 396,\n",
              " 'pathetic': 1290,\n",
              " 'waiting': 1888,\n",
              " 'yesterday': 1989,\n",
              " 'class': 374,\n",
              " 'passenger': 1286,\n",
              " 'win': 1943,\n",
              " 'lt': 1080,\n",
              " 'mind': 1142,\n",
              " 'states': 1653,\n",
              " 'maintenance': 1089,\n",
              " 'app': 169,\n",
              " 'says': 1520,\n",
              " 'arriving': 183,\n",
              " 'aircraft': 118,\n",
              " 'tell': 1715,\n",
              " 'unfriendly': 1838,\n",
              " 'right': 1483,\n",
              " 'whole': 1935,\n",
              " 'form': 758,\n",
              " 'before': 244,\n",
              " 'direct': 545,\n",
              " 'address': 101,\n",
              " 'plans': 1330,\n",
              " 'system': 1697,\n",
              " 'reflight': 1433,\n",
              " 'booking': 274,\n",
              " 'problems': 1377,\n",
              " 'disconnect': 553,\n",
              " 'between': 252,\n",
              " 'face': 669,\n",
              " 'enough': 616,\n",
              " 'miles': 1138,\n",
              " 'enjoy': 615,\n",
              " 'perfect': 1302,\n",
              " 'coffee': 392,\n",
              " 'tracking': 1783,\n",
              " 'tells': 1717,\n",
              " 'nothing': 1213,\n",
              " 'less': 1023,\n",
              " 'easily': 595,\n",
              " 'company': 406,\n",
              " 'experienced': 655,\n",
              " 'personal': 1306,\n",
              " 'caused': 333,\n",
              " 'ruining': 1500,\n",
              " 'ashamed': 187,\n",
              " 'gave': 795,\n",
              " 'wrong': 1975,\n",
              " 'nothappy': 1212,\n",
              " 'vouchers': 1885,\n",
              " 'runway': 1504,\n",
              " 'saturday': 1515,\n",
              " 'bwi': 301,\n",
              " 'appreciate': 172,\n",
              " 'power': 1358,\n",
              " 'laptop': 1006,\n",
              " 'iphone': 958,\n",
              " 'missing': 1153,\n",
              " 'good': 815,\n",
              " 'holder': 881,\n",
              " 'conditions': 422,\n",
              " 'arrival': 179,\n",
              " 'de': 496,\n",
              " 'icing': 916,\n",
              " 'three': 1748,\n",
              " 'far': 682,\n",
              " 'sure': 1686,\n",
              " 'taking': 1704,\n",
              " '15': 11,\n",
              " '12': 7,\n",
              " '40': 48,\n",
              " '45': 51,\n",
              " 'minutes': 1148,\n",
              " 'jetway': 974,\n",
              " 'hotel': 895,\n",
              " '32': 41,\n",
              " 'counting': 457,\n",
              " 'gotta': 817,\n",
              " 'record': 1430,\n",
              " 'air': 117,\n",
              " 'delivered': 511,\n",
              " 'destination': 530,\n",
              " 'frequent': 767,\n",
              " 'traveler': 1792,\n",
              " 'treated': 1797,\n",
              " 'offer': 1226,\n",
              " 'pls': 1340,\n",
              " 'start': 1647,\n",
              " 'luv': 1084,\n",
              " 'ya': 1979,\n",
              " 'finally': 709,\n",
              " 'nashville': 1183,\n",
              " 'answers': 158,\n",
              " 'away': 216,\n",
              " 'chicago': 365,\n",
              " 'drove': 585,\n",
              " 'prepared': 1366,\n",
              " 'bringing': 283,\n",
              " 'does': 564,\n",
              " 'sense': 1544,\n",
              " 'yay': 1981,\n",
              " 'nuts': 1220,\n",
              " 'cold': 393,\n",
              " 'eventually': 632,\n",
              " 'explained': 659,\n",
              " 'virginamerica': 1881,\n",
              " 'understanding': 1835,\n",
              " 'helped': 868,\n",
              " 'best': 250,\n",
              " 'lady': 1000,\n",
              " 'advance': 104,\n",
              " '24': 27,\n",
              " 'prior': 1372,\n",
              " 'tried': 1799,\n",
              " 'earlier': 591,\n",
              " 'wanted': 1895,\n",
              " '300': 37,\n",
              " 'fees': 696,\n",
              " 'sfo': 1555,\n",
              " 'say': 1518,\n",
              " 'consistent': 438,\n",
              " 'high': 875,\n",
              " 'quality': 1400,\n",
              " 'keep': 982,\n",
              " 'quick': 1404,\n",
              " 'serious': 1546,\n",
              " 'question': 1401,\n",
              " 'showing': 1571,\n",
              " 'place': 1323,\n",
              " 'fyi': 790,\n",
              " 'dropped': 584,\n",
              " 'able': 77,\n",
              " 'conf': 423,\n",
              " 'appreciated': 173,\n",
              " 'suppose': 1684,\n",
              " 'til': 1757,\n",
              " 'glad': 806,\n",
              " 'damaged': 488,\n",
              " 'answer': 155,\n",
              " 'hung': 911,\n",
              " 'disappointed': 549,\n",
              " 'losing': 1065,\n",
              " 'fill': 706,\n",
              " 'soon': 1618,\n",
              " 'land': 1003,\n",
              " 'hope': 888,\n",
              " 'feedback': 693,\n",
              " 'virgin': 1880,\n",
              " 'went': 1920,\n",
              " 'smooth': 1601,\n",
              " 'ride': 1481,\n",
              " 'wow': 1973,\n",
              " 'thinking': 1740,\n",
              " 'same': 1512,\n",
              " 'ps': 1391,\n",
              " 'overnight': 1271,\n",
              " 'meet': 1115,\n",
              " 'either': 601,\n",
              " 'connections': 435,\n",
              " 'tx': 1821,\n",
              " 'see': 1535,\n",
              " 'year': 1984,\n",
              " 'love': 1072,\n",
              " 'consider': 436,\n",
              " 'fare': 683,\n",
              " 'price': 1369,\n",
              " 'try': 1807,\n",
              " 'father': 687,\n",
              " 'loved': 1074,\n",
              " 'likely': 1038,\n",
              " 'slow': 1598,\n",
              " 'internet': 954,\n",
              " 'addressed': 102,\n",
              " 'fee': 692,\n",
              " 'yes': 1988,\n",
              " 'cust': 477,\n",
              " 'svc': 1689,\n",
              " 'said': 1510,\n",
              " 'evening': 631,\n",
              " 'further': 788,\n",
              " 'both': 277,\n",
              " 'during': 588,\n",
              " 'broke': 284,\n",
              " 'open': 1247,\n",
              " 'camera': 312,\n",
              " 'read': 1416,\n",
              " 'believe': 247,\n",
              " 'incident': 934,\n",
              " 'fault': 688,\n",
              " 'sw': 1690,\n",
              " 'done': 572,\n",
              " 'ive': 969,\n",
              " 'boarding': 270,\n",
              " 'catering': 331,\n",
              " 'always': 138,\n",
              " 'nightmare': 1200,\n",
              " 'fail': 671,\n",
              " 'kidding': 987,\n",
              " 'talked': 1706,\n",
              " 'human': 908,\n",
              " 'asking': 190,\n",
              " 'follow': 749,\n",
              " 'vacation': 1870,\n",
              " 'finish': 714,\n",
              " 'some': 1611,\n",
              " 'text': 1722,\n",
              " 'carrier': 325,\n",
              " 'card': 321,\n",
              " 'nope': 1207,\n",
              " 'apparently': 170,\n",
              " 'times': 1761,\n",
              " 'wtf': 1977,\n",
              " 'looks': 1063,\n",
              " 'handling': 836,\n",
              " 'connecting': 433,\n",
              " 'thru': 1751,\n",
              " 'impossible': 928,\n",
              " 'actually': 96,\n",
              " 'final': 708,\n",
              " 'attitude': 205,\n",
              " 'these': 1735,\n",
              " 'mco': 1105,\n",
              " 'iad': 913,\n",
              " 'fingers': 713,\n",
              " 'crossed': 471,\n",
              " 'four': 762,\n",
              " 'meeting': 1116,\n",
              " 'atlanta': 199,\n",
              " 'slept': 1597,\n",
              " 'security': 1534,\n",
              " 'onto': 1246,\n",
              " 'crying': 472,\n",
              " 'baby': 220,\n",
              " 'situation': 1587,\n",
              " 'drop': 583,\n",
              " 'incredibly': 941,\n",
              " 'unacceptable': 1829,\n",
              " 'issues': 963,\n",
              " 'based': 231,\n",
              " 'things': 1738,\n",
              " 'control': 444,\n",
              " 'wifi': 1940,\n",
              " 'tv': 1814,\n",
              " 'double': 576,\n",
              " 'comment': 400,\n",
              " 'anywhere': 164,\n",
              " 'south': 1624,\n",
              " 'florida': 740,\n",
              " 'gone': 813,\n",
              " 'hello': 866,\n",
              " 'forgot': 757,\n",
              " 'thought': 1747,\n",
              " 'mosaic': 1166,\n",
              " 'perks': 1304,\n",
              " 'part': 1281,\n",
              " 'checking': 362,\n",
              " '60': 62,\n",
              " 'upgrade': 1854,\n",
              " 'solution': 1609,\n",
              " 'show': 1569,\n",
              " 'track': 1782,\n",
              " 'disappeared': 548,\n",
              " 'dulles': 587,\n",
              " 'lax': 1011,\n",
              " 'thursday': 1752,\n",
              " 'honest': 884,\n",
              " 'reschedule': 1461,\n",
              " 'btw': 289,\n",
              " 'intl': 955,\n",
              " 'flightd': 729,\n",
              " 'area': 176,\n",
              " 'pretty': 1367,\n",
              " 'probably': 1375,\n",
              " 'plus': 1341,\n",
              " 'hearing': 863,\n",
              " 'overbooked': 1269,\n",
              " 'since': 1580,\n",
              " 'file': 704,\n",
              " 'cool': 445,\n",
              " 'pre': 1361,\n",
              " 'thing': 1737,\n",
              " 'single': 1582,\n",
              " 'philly': 1308,\n",
              " 'deal': 498,\n",
              " 'boarded': 269,\n",
              " 'joke': 978,\n",
              " 'computer': 417,\n",
              " 'ing': 948,\n",
              " 'complain': 411,\n",
              " 'public': 1392,\n",
              " 'afternoon': 110,\n",
              " 'six': 1588,\n",
              " 'layover': 1012,\n",
              " 'party': 1282,\n",
              " 'assist': 193,\n",
              " 'except': 643,\n",
              " 'message': 1125,\n",
              " 'trust': 1806,\n",
              " 'bna': 267,\n",
              " 'rdu': 1412,\n",
              " 'most': 1167,\n",
              " 'excellent': 642,\n",
              " 'fa': 666,\n",
              " 'such': 1673,\n",
              " 'warm': 1897,\n",
              " 'onboard': 1240,\n",
              " 'welcome': 1918,\n",
              " 'wonder': 1952,\n",
              " 'hate': 851,\n",
              " 'dealing': 499,\n",
              " 'airlines': 120,\n",
              " 'policies': 1347,\n",
              " 'resolution': 1466,\n",
              " 'jan': 970,\n",
              " 'options': 1250,\n",
              " 'returning': 1478,\n",
              " 'hanging': 839,\n",
              " 'mistake': 1154,\n",
              " 'replying': 1451,\n",
              " 'feel': 694,\n",
              " 'requested': 1457,\n",
              " 'reward': 1479,\n",
              " 'points': 1345,\n",
              " 'used': 1864,\n",
              " 'he': 856,\n",
              " 'refused': 1438,\n",
              " 'screwed': 1525,\n",
              " 'big': 254,\n",
              " '1hr': 17,\n",
              " '2nd': 34,\n",
              " 'wouldn': 1972,\n",
              " 'view': 1879,\n",
              " 'changes': 347,\n",
              " 'outside': 1265,\n",
              " 'flightr': 736,\n",
              " 'acceptable': 84,\n",
              " 'entire': 619,\n",
              " 'dca': 495,\n",
              " 'nobody': 1203,\n",
              " 'knows': 996,\n",
              " 'pm': 1343,\n",
              " 'job': 977,\n",
              " 'angry': 149,\n",
              " 'kudos': 997,\n",
              " 'fast': 685,\n",
              " 'congrats': 430,\n",
              " 'systems': 1698,\n",
              " 'down': 577,\n",
              " 'plan': 1325,\n",
              " 'american': 142,\n",
              " 'cuz': 482,\n",
              " 'behind': 245,\n",
              " 'schedule': 1521,\n",
              " 'staff': 1642,\n",
              " 'cabin': 304,\n",
              " 'bos': 275,\n",
              " 'ogg': 1232,\n",
              " 'using': 1867,\n",
              " 'hard': 846,\n",
              " 'given': 803,\n",
              " 'legs': 1022,\n",
              " 'confirm': 425,\n",
              " 'informed': 947,\n",
              " 'flightlation': 732,\n",
              " 'letter': 1027,\n",
              " 'sna': 1602,\n",
              " 'causes': 334,\n",
              " 'provide': 1388,\n",
              " 'transportation': 1789,\n",
              " 'wedding': 1913,\n",
              " 'watch': 1903,\n",
              " '3hrs': 45,\n",
              " 'sju': 1591,\n",
              " 'worse': 1967,\n",
              " 'handle': 833,\n",
              " 'hangs': 840,\n",
              " 'wall': 1892,\n",
              " 'middle': 1133,\n",
              " 'mad': 1085,\n",
              " 'unhelpful': 1841,\n",
              " 'rude': 1498,\n",
              " '2hrs': 33,\n",
              " 'beyond': 253,\n",
              " 'spiritairlines': 1636,\n",
              " 'receive': 1426,\n",
              " 'assistance': 194,\n",
              " 'apology': 168,\n",
              " 'disappointing': 550,\n",
              " 'airways': 124,\n",
              " 'answering': 157,\n",
              " 'ugh': 1826,\n",
              " 'ok': 1234,\n",
              " 'insane': 949,\n",
              " 'request': 1456,\n",
              " 'completely': 415,\n",
              " 'paid': 1275,\n",
              " 'group': 821,\n",
              " 'doing': 568,\n",
              " 'while': 1932,\n",
              " 'isn': 960,\n",
              " 'supervisor': 1682,\n",
              " 'regarding': 1439,\n",
              " 'travels': 1795,\n",
              " 'stuff': 1670,\n",
              " 'carry': 327,\n",
              " 'spent': 1635,\n",
              " 'account': 89,\n",
              " 'houston': 900,\n",
              " 'express': 661,\n",
              " '35': 42,\n",
              " 'additional': 100,\n",
              " 'delivery': 512,\n",
              " 'crazy': 466,\n",
              " 'update': 1851,\n",
              " 'infant': 943,\n",
              " 'children': 368,\n",
              " 'nyc': 1222,\n",
              " 'unbelievable': 1831,\n",
              " 'inbound': 933,\n",
              " 'equipment': 622,\n",
              " 'moving': 1171,\n",
              " 'happens': 844,\n",
              " 'often': 1231,\n",
              " 'la': 998,\n",
              " 'gives': 804,\n",
              " 'absolute': 80,\n",
              " 'found': 761,\n",
              " 'straight': 1666,\n",
              " 'talk': 1705,\n",
              " 'rescheduled': 1462,\n",
              " 'okay': 1235,\n",
              " 'large': 1007,\n",
              " 'real': 1418,\n",
              " 'god': 809,\n",
              " 'tiny': 1762,\n",
              " 'man': 1094,\n",
              " 'past': 1289,\n",
              " 'assignment': 192,\n",
              " 'chairman': 343,\n",
              " 'preferred': 1363,\n",
              " 'row': 1493,\n",
              " 'employee': 608,\n",
              " 'telling': 1716,\n",
              " 'fit': 717,\n",
              " 'clearly': 379,\n",
              " 'fits': 718,\n",
              " 'nah': 1181,\n",
              " 'dont': 573,\n",
              " 'humans': 909,\n",
              " 'respond': 1470,\n",
              " 'relations': 1444,\n",
              " 'midnight': 1134,\n",
              " 'cheers': 363,\n",
              " 'mean': 1109,\n",
              " 'posted': 1357,\n",
              " 'usair': 1860,\n",
              " '800': 71,\n",
              " 'calls': 310,\n",
              " 'contact': 439,\n",
              " 'understand': 1834,\n",
              " 'missed': 1152,\n",
              " 'mechanical': 1112,\n",
              " 'failure': 674,\n",
              " 'lose': 1064,\n",
              " '400': 49,\n",
              " 'mon': 1159,\n",
              " 'status': 1654,\n",
              " 'match': 1101,\n",
              " 'program': 1381,\n",
              " 'weeks': 1917,\n",
              " 'emailed': 604,\n",
              " 'inside': 950,\n",
              " 'money': 1161,\n",
              " 'phones': 1313,\n",
              " 'suggestions': 1677,\n",
              " '48': 52,\n",
              " 'frustrated': 776,\n",
              " 'items': 966,\n",
              " 'embarrassing': 606,\n",
              " ...}"
            ]
          },
          "metadata": {},
          "execution_count": 35
        }
      ]
    },
    {
      "cell_type": "code",
      "source": [],
      "metadata": {
        "id": "y9TrhU1ZF4xi"
      },
      "execution_count": 35,
      "outputs": []
    },
    {
      "cell_type": "code",
      "source": [],
      "metadata": {
        "id": "Zo5znGMHF40R"
      },
      "execution_count": 35,
      "outputs": []
    },
    {
      "cell_type": "code",
      "source": [],
      "metadata": {
        "id": "nhR4gip4F43J"
      },
      "execution_count": 35,
      "outputs": []
    },
    {
      "cell_type": "code",
      "source": [],
      "metadata": {
        "id": "WIOEGc7nF45v"
      },
      "execution_count": 35,
      "outputs": []
    }
  ]
}