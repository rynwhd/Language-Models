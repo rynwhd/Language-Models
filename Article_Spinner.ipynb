{
  "nbformat": 4,
  "nbformat_minor": 0,
  "metadata": {
    "colab": {
      "provenance": [],
      "authorship_tag": "ABX9TyNYF7FdOn37/JF39ImAMwN6",
      "include_colab_link": true
    },
    "kernelspec": {
      "name": "python3",
      "display_name": "Python 3"
    },
    "language_info": {
      "name": "python"
    }
  },
  "cells": [
    {
      "cell_type": "markdown",
      "metadata": {
        "id": "view-in-github",
        "colab_type": "text"
      },
      "source": [
        "<a href=\"https://colab.research.google.com/github/rynwhd/Language-Models/blob/main/Article_Spinner.ipynb\" target=\"_parent\"><img src=\"https://colab.research.google.com/assets/colab-badge.svg\" alt=\"Open In Colab\"/></a>"
      ]
    },
    {
      "cell_type": "code",
      "source": [
        "import numpy as np\n",
        "import pandas as pd\n",
        "import nltk\n",
        "import textwrap #doesn't let the paragraph go out of screen \n",
        "nltk.download('punkt')\n",
        "from nltk import word_tokenize \n",
        "from nltk.tokenize.treebank import TreebankWordDetokenizer"
      ],
      "metadata": {
        "colab": {
          "base_uri": "https://localhost:8080/"
        },
        "id": "c3mFxEWMFtOQ",
        "outputId": "4cfff23a-51ae-4879-f987-4e0d4638bc22"
      },
      "execution_count": null,
      "outputs": [
        {
          "output_type": "stream",
          "name": "stderr",
          "text": [
            "[nltk_data] Downloading package punkt to /root/nltk_data...\n",
            "[nltk_data]   Package punkt is already up-to-date!\n"
          ]
        }
      ]
    },
    {
      "cell_type": "code",
      "source": [
        "# https://www.kaggle.com/shivamkushwaha/bbc-full-text-document-classification\n",
        "!wget -nc https://lazyprogrammer.me/course_files/nlp/bbc_text_cls.csv\n"
      ],
      "metadata": {
        "colab": {
          "base_uri": "https://localhost:8080/"
        },
        "id": "WKMa5M0sFtPi",
        "outputId": "0f34eae8-60a8-44ad-beac-7304d9d816d9"
      },
      "execution_count": null,
      "outputs": [
        {
          "output_type": "stream",
          "name": "stdout",
          "text": [
            "--2023-02-10 01:38:33--  https://lazyprogrammer.me/course_files/nlp/bbc_text_cls.csv\n",
            "Resolving lazyprogrammer.me (lazyprogrammer.me)... 172.67.213.166, 104.21.23.210, 2606:4700:3031::6815:17d2, ...\n",
            "Connecting to lazyprogrammer.me (lazyprogrammer.me)|172.67.213.166|:443... connected.\n",
            "HTTP request sent, awaiting response... 200 OK\n",
            "Length: 5085081 (4.8M) [text/csv]\n",
            "Saving to: ‘bbc_text_cls.csv’\n",
            "\n",
            "bbc_text_cls.csv    100%[===================>]   4.85M  5.07MB/s    in 1.0s    \n",
            "\n",
            "2023-02-10 01:38:35 (5.07 MB/s) - ‘bbc_text_cls.csv’ saved [5085081/5085081]\n",
            "\n"
          ]
        }
      ]
    },
    {
      "cell_type": "code",
      "source": [
        "df=pd.read_csv('bbc_text_cls.csv')"
      ],
      "metadata": {
        "id": "E8jmtFzOFtQ3"
      },
      "execution_count": null,
      "outputs": []
    },
    {
      "cell_type": "code",
      "source": [
        "df2=pd.read_csv('bbc_text_cls.csv')"
      ],
      "metadata": {
        "id": "6tkd6QiIU1Fv"
      },
      "execution_count": null,
      "outputs": []
    },
    {
      "cell_type": "code",
      "source": [
        "df2=df2[df2['labels']=='business']"
      ],
      "metadata": {
        "id": "1ew1w4aPFtSJ"
      },
      "execution_count": null,
      "outputs": []
    },
    {
      "cell_type": "code",
      "source": [
        "df2['text']=df2['text'].apply(lambda x:x.lower())\n",
        "df2['text']=df2['text'].apply(lambda x:x.replace(\"'s\",'s'))"
      ],
      "metadata": {
        "id": "4nioPeZ9VUCZ"
      },
      "execution_count": null,
      "outputs": []
    },
    {
      "cell_type": "code",
      "source": [
        "df=df[df['labels']=='business']"
      ],
      "metadata": {
        "id": "4k7wChatIKe4"
      },
      "execution_count": null,
      "outputs": []
    },
    {
      "cell_type": "code",
      "source": [
        "# def my_func(t):\n",
        "#   ans=''\n",
        "#   for i in range(len(t)-1):\n",
        "#     if t[i]+t[i+1]=='\\n\\n':\n",
        "#       ans+=' '\n",
        "#       i+=2\n",
        "#     else:\n",
        "#       ans+=t[i].lower()\n",
        "#   return ans"
      ],
      "metadata": {
        "id": "4axsqI_YLuy2"
      },
      "execution_count": null,
      "outputs": []
    },
    {
      "cell_type": "code",
      "source": [
        "df['text']=df['text'].apply(lambda x:x.replace('\\n\\n',' ').lower())\n"
      ],
      "metadata": {
        "id": "u-5kq_J1LXHb"
      },
      "execution_count": null,
      "outputs": []
    },
    {
      "cell_type": "code",
      "source": [
        "df['text']=df['text'].apply(lambda x:x.replace(\"'s\",'s'))"
      ],
      "metadata": {
        "id": "FFoe5VOTObDa"
      },
      "execution_count": null,
      "outputs": []
    },
    {
      "cell_type": "code",
      "source": [
        "initial={}\n",
        "second_order={}"
      ],
      "metadata": {
        "id": "A-mOCYS2PgA1"
      },
      "execution_count": null,
      "outputs": []
    },
    {
      "cell_type": "code",
      "source": [
        "def add2dic(d,k,v):\n",
        "  if k not in d:\n",
        "    d[k]={}\n",
        "  if v not in d[k].keys():\n",
        "    d[k][v]=1\n",
        "  else:\n",
        "    d[k][v]+=1"
      ],
      "metadata": {
        "id": "om76dYtqPqnG"
      },
      "execution_count": null,
      "outputs": []
    },
    {
      "cell_type": "code",
      "source": [
        "for line in df['text']:\n",
        "  tokens=word_tokenize(line)\n",
        "  for i in range(len(tokens)-1):\n",
        "    t=tokens[i]\n",
        "    if i==0:\n",
        "      initial[t]=initial.get(t,0.)+1\n",
        "    if i==len(tokens)-2:\n",
        "      w2='END'\n",
        "    elif i<len(tokens)-2:\n",
        "      w2=tokens[i+2]\n",
        "    w1=tokens[i+1]  \n",
        "    add2dic(second_order,(t,w2),w1)"
      ],
      "metadata": {
        "id": "qE-yXmaOIrY8"
      },
      "execution_count": null,
      "outputs": []
    },
    {
      "cell_type": "code",
      "source": [
        "for k,v in second_order.items():\n",
        "  len=sum(v.values())\n",
        "  for i,j in v.items():\n",
        "    v[i]=j/len"
      ],
      "metadata": {
        "id": "coSj2LnjTx23"
      },
      "execution_count": null,
      "outputs": []
    },
    {
      "cell_type": "code",
      "source": [
        "import string "
      ],
      "metadata": {
        "id": "Kf8wMHp6bZYd"
      },
      "execution_count": null,
      "outputs": []
    },
    {
      "cell_type": "code",
      "source": [
        "def sample_word(d):\n",
        "  p0=np.random.random()\n",
        "  cumulative=0\n",
        "  for t,v in d.items():\n",
        "    cumulative+=v\n",
        "    if p0<=cumulative:\n",
        "      return t\n",
        "  print(d)\n",
        "  print(p0)\n",
        "  assert(False) #loop should never get here "
      ],
      "metadata": {
        "id": "uS0fsqmaBlI2"
      },
      "execution_count": null,
      "outputs": []
    },
    {
      "cell_type": "code",
      "source": [],
      "metadata": {
        "id": "2x83TOuqJAYl"
      },
      "execution_count": null,
      "outputs": []
    },
    {
      "cell_type": "code",
      "source": [
        "# def spin_line(line):\n",
        "#   tokens=word_tokenize(line)\n",
        "#   T=length(tokens)\n",
        "#   output=[tokens[0]]\n",
        "#   rayan=0\n",
        "#   for i in range(1,T-2):\n",
        "#     w0=tokens[i]\n",
        "#     w2=tokens[i+2]\n",
        "#     key=(w0,w2)\n",
        "#     if key in second_order:\n",
        "#       p_dist=second_order[key]\n",
        "#       if length(p_dist)>1 and np.random.random()<0.3: #controls how often the word is replaced\n",
        "#         w1=sample_word(p_dist)\n",
        "#         output.append(tokens[i+1])\n",
        "#         output.append('<'+w1+'>')\n",
        "#         i+=1\n",
        "#   output.append(tokens[-1])\n",
        "#   for i in output:\n",
        "#     print(i,end='')\n",
        "#   # return detokenizer.detokenize(output)\n"
      ],
      "metadata": {
        "id": "lsFCvOM6_81T"
      },
      "execution_count": null,
      "outputs": []
    },
    {
      "cell_type": "code",
      "source": [
        "def spin_line(line):\n",
        "  tokens=word_tokenize(line)\n",
        "  i=0\n",
        "  output=[tokens[0]]\n",
        "  while i<(length(tokens)-2):\n",
        "    t_0=tokens[i]\n",
        "    t_1=tokens[i+1]\n",
        "    t_2=tokens[i+2]\n",
        "    key=(t_0,t_2)\n",
        "    p_dist=second_order[key]\n",
        "    if length(p_dist)>1:\n",
        "      middle=sample_word(p_dist)\n",
        "      output.append(middle)\n",
        "      # output.append('<'+middle+'>')\n",
        "      output.append(t_2)\n",
        "      i+=2\n",
        "    else:\n",
        "      output.append(t_1)\n",
        "      i+=1\n",
        "  if i==length(tokens)-2:\n",
        "    output.append(tokens[-1])\n",
        "  return detokenizer.detokenize(output)\n"
      ],
      "metadata": {
        "id": "97Yzur5JPNik"
      },
      "execution_count": null,
      "outputs": []
    },
    {
      "cell_type": "code",
      "source": [
        "def spin_text(doc):\n",
        "  lines=doc.split('\\n')\n",
        "  output=[]\n",
        "  for line in lines:\n",
        "    if line:\n",
        "      new_line=spin_line(line)\n",
        "    else:\n",
        "      new_line=line \n",
        "    output.append(line)\n",
        "  return '\\n'.join(output)"
      ],
      "metadata": {
        "id": "a4h1muZP_-p1"
      },
      "execution_count": null,
      "outputs": []
    },
    {
      "cell_type": "code",
      "source": [
        "np.random.seed(1234)"
      ],
      "metadata": {
        "id": "93d1gikqQgKf"
      },
      "execution_count": null,
      "outputs": []
    },
    {
      "cell_type": "code",
      "source": [
        "test_doc=df2['text'].iloc[0]\n",
        "print(test_doc.split('\\n')[6])"
      ],
      "metadata": {
        "colab": {
          "base_uri": "https://localhost:8080/"
        },
        "id": "WYkD8X-hFFIt",
        "outputId": "38d4fcc7-7888-4186-d8bf-56662cd4d390"
      },
      "execution_count": null,
      "outputs": [
        {
          "output_type": "stream",
          "name": "stdout",
          "text": [
            "time warner said on friday that it now owns 8% of search-engine google. but its own internet business, aol, had has mixed fortunes. it lost 464,000 subscribers in the fourth quarter profits were lower than in the preceding three quarters. however, the company said aols underlying profit before exceptional items rose 8% on the back of stronger internet advertising revenues. it hopes to increase subscribers by offering the online service free to timewarner internet customers and will try to sign up aols existing customers for high-speed broadband. timewarner also has to restate 2000 and 2003 results following a probe by the us securities exchange commission (sec), which is close to concluding.\n"
          ]
        }
      ]
    },
    {
      "cell_type": "code",
      "source": [
        "def length(d):\n",
        "  c=0\n",
        "  for i in d:\n",
        "    c+=1\n",
        "  return c\n"
      ],
      "metadata": {
        "id": "ZlPzLrBSHq4Q"
      },
      "execution_count": null,
      "outputs": []
    },
    {
      "cell_type": "code",
      "source": [
        "new_doc=spin_text(test_doc.split('\\n')[6])\n",
        "new_doc"
      ],
      "metadata": {
        "colab": {
          "base_uri": "https://localhost:8080/",
          "height": 87
        },
        "id": "oI3tw9ywFZI3",
        "outputId": "8456cd9b-b7fd-4d51-ce2d-0e46cc64548d"
      },
      "execution_count": null,
      "outputs": [
        {
          "output_type": "execute_result",
          "data": {
            "text/plain": [
              "'time warner said on friday that it now owns 8% of search-engine google. but its own internet business, aol, had has mixed fortunes. it lost 464,000 subscribers in the fourth quarter profits were lower than in the preceding three quarters. however, the company said aols underlying profit before exceptional items rose 8% on the back of stronger internet advertising revenues. it hopes to increase subscribers by offering the online service free to timewarner internet customers and will try to sign up aols existing customers for high-speed broadband. timewarner also has to restate 2000 and 2003 results following a probe by the us securities exchange commission (sec), which is close to concluding.'"
            ],
            "application/vnd.google.colaboratory.intrinsic+json": {
              "type": "string"
            }
          },
          "metadata": {},
          "execution_count": 187
        }
      ]
    },
    {
      "cell_type": "code",
      "source": [
        "print(textwrap.fill(new_doc,replace_whitespace=False,fix_sentence_endings=True))"
      ],
      "metadata": {
        "colab": {
          "base_uri": "https://localhost:8080/"
        },
        "id": "9gCCqeLDA4Dx",
        "outputId": "ac94169f-a3b9-4df2-a0cf-d0fce864b63d"
      },
      "execution_count": null,
      "outputs": [
        {
          "output_type": "stream",
          "name": "stdout",
          "text": [
            "time warner said on friday that it now owns 8% of search-engine\n",
            "google.  but its own internet business, aol, had has mixed fortunes.\n",
            "it lost 464,000 subscribers in the fourth quarter profits were lower\n",
            "than in the preceding three quarters.  however, the company said aols\n",
            "underlying profit before exceptional items rose 8% on the back of\n",
            "stronger internet advertising revenues.  it hopes to increase\n",
            "subscribers by offering the online service free to timewarner internet\n",
            "customers and will try to sign up aols existing customers for high-\n",
            "speed broadband.  timewarner also has to restate 2000 and 2003 results\n",
            "following a probe by the us securities exchange commission (sec),\n",
            "which is close to concluding.\n"
          ]
        }
      ]
    },
    {
      "cell_type": "code",
      "source": [],
      "metadata": {
        "colab": {
          "base_uri": "https://localhost:8080/",
          "height": 35
        },
        "id": "wB232sn7BKp0",
        "outputId": "a31ab84f-cc5d-4e13-fcd5-d38b2e2260fb"
      },
      "execution_count": null,
      "outputs": [
        {
          "output_type": "execute_result",
          "data": {
            "text/plain": [
              "'british hurdler sarah claxton is confident she can win her first major medal at next months european indoor championships in madrid.'"
            ],
            "application/vnd.google.colaboratory.intrinsic+json": {
              "type": "string"
            }
          },
          "metadata": {},
          "execution_count": 32
        }
      ]
    },
    {
      "cell_type": "code",
      "source": [
        "# text=\"i am using this string to make a new sentence. can you do this?\"\n",
        "# sent=[]\n",
        "# t=word_tokenize(text)\n",
        "# T=0\n",
        "# for i in t:\n",
        "#   T+=1\n",
        "# print(T)\n",
        "# # T=len(t)\n",
        "# for j in range(T-2):\n",
        "#   if j==T-2:\n",
        "#     w2='END'\n",
        "#   else: \n",
        "#     w2=t[j+2]\n",
        "#   w0=t[j]\n",
        "#   if (w0,w2) in second_order:\n",
        "#     max=0\n",
        "#     for i,v in second_order[(w0,w2)].items():\n",
        "#       if v>max:\n",
        "#         max=v\n",
        "#     for i,v in second_order.items():\n",
        "#       if v==max:\n",
        "#         max=i\n",
        "#     w1=max\n",
        "#   else:\n",
        "#     w1=t[j+1]\n",
        "#     sent.append(w0)\n",
        "#     sent.append(w1)\n",
        "#     sent.append(w2)\n",
        "#   if w2 in string.punctuation:\n",
        "#     j+=2\n",
        "# print(sent)"
      ],
      "metadata": {
        "colab": {
          "base_uri": "https://localhost:8080/"
        },
        "id": "q44dpcMhVc81",
        "outputId": "eb14b593-a7dc-4a46-be51-1377133c63a1"
      },
      "execution_count": null,
      "outputs": [
        {
          "output_type": "stream",
          "name": "stdout",
          "text": [
            "16\n",
            "['i', 'am', 'using', 'using', 'this', 'string', 'string', 'to', 'make', 'make', 'a', 'new', 'sentence', '.', 'can', 'can', 'you', 'do', 'you', 'do', 'this', 'do', 'this', '?']\n"
          ]
        }
      ]
    },
    {
      "cell_type": "code",
      "source": [],
      "metadata": {
        "id": "myh34Qw3sLsU"
      },
      "execution_count": null,
      "outputs": []
    }
  ]
}