{
  "nbformat": 4,
  "nbformat_minor": 0,
  "metadata": {
    "colab": {
      "provenance": [],
      "authorship_tag": "ABX9TyOkfWBDDb1lEQfjPOS/vZ7s",
      "include_colab_link": true
    },
    "kernelspec": {
      "name": "python3",
      "display_name": "Python 3"
    },
    "language_info": {
      "name": "python"
    }
  },
  "cells": [
    {
      "cell_type": "markdown",
      "metadata": {
        "id": "view-in-github",
        "colab_type": "text"
      },
      "source": [
        "<a href=\"https://colab.research.google.com/github/rynwhd/Language-Models/blob/main/TextRank.ipynb\" target=\"_parent\"><img src=\"https://colab.research.google.com/assets/colab-badge.svg\" alt=\"Open In Colab\"/></a>"
      ]
    },
    {
      "cell_type": "code",
      "execution_count": 7,
      "metadata": {
        "colab": {
          "base_uri": "https://localhost:8080/"
        },
        "id": "k5RRbCphhtm1",
        "outputId": "1a47e9f5-3106-478b-e710-7b8ff369e336"
      },
      "outputs": [
        {
          "output_type": "stream",
          "name": "stderr",
          "text": [
            "[nltk_data] Downloading package punkt to /root/nltk_data...\n",
            "[nltk_data]   Package punkt is already up-to-date!\n",
            "[nltk_data] Downloading package stopwords to /root/nltk_data...\n",
            "[nltk_data]   Package stopwords is already up-to-date!\n"
          ]
        }
      ],
      "source": [
        " import numpy as np\n",
        " import pandas as pd\n",
        " import string \n",
        " import nltk\n",
        " nltk.download(['punkt','stopwords'])\n",
        " from nltk.corpus import stopwords\n",
        " from nltk.tokenize import sent_tokenize\n",
        " import textwrap\n",
        " import regex as re"
      ]
    },
    {
      "cell_type": "code",
      "source": [
        "!wget -nc https://lazyprogrammer.me/course_files/nlp/bbc_text_cls.csv"
      ],
      "metadata": {
        "colab": {
          "base_uri": "https://localhost:8080/"
        },
        "id": "OdThobMmrBxQ",
        "outputId": "d6043852-16c0-4a26-dfbc-4a882ff3b174"
      },
      "execution_count": 2,
      "outputs": [
        {
          "output_type": "stream",
          "name": "stdout",
          "text": [
            "--2023-02-23 05:08:23--  https://lazyprogrammer.me/course_files/nlp/bbc_text_cls.csv\n",
            "Resolving lazyprogrammer.me (lazyprogrammer.me)... 104.21.23.210, 172.67.213.166, 2606:4700:3030::ac43:d5a6, ...\n",
            "Connecting to lazyprogrammer.me (lazyprogrammer.me)|104.21.23.210|:443... connected.\n",
            "HTTP request sent, awaiting response... 200 OK\n",
            "Length: 5085081 (4.8M) [text/csv]\n",
            "Saving to: ‘bbc_text_cls.csv’\n",
            "\n",
            "bbc_text_cls.csv    100%[===================>]   4.85M  --.-KB/s    in 0.02s   \n",
            "\n",
            "2023-02-23 05:08:23 (195 MB/s) - ‘bbc_text_cls.csv’ saved [5085081/5085081]\n",
            "\n"
          ]
        }
      ]
    },
    {
      "cell_type": "code",
      "source": [
        "df=pd.read_csv('bbc_text_cls.csv')"
      ],
      "metadata": {
        "id": "NcOQyBnPrC_p"
      },
      "execution_count": 4,
      "outputs": []
    },
    {
      "cell_type": "code",
      "source": [
        "df.head()"
      ],
      "metadata": {
        "colab": {
          "base_uri": "https://localhost:8080/",
          "height": 206
        },
        "id": "5vhwtvuareON",
        "outputId": "62203f1d-a5e5-4fbc-b510-70ff70a3e4a2"
      },
      "execution_count": 5,
      "outputs": [
        {
          "output_type": "execute_result",
          "data": {
            "text/plain": [
              "                                                text    labels\n",
              "0  Ad sales boost Time Warner profit\\n\\nQuarterly...  business\n",
              "1  Dollar gains on Greenspan speech\\n\\nThe dollar...  business\n",
              "2  Yukos unit buyer faces loan claim\\n\\nThe owner...  business\n",
              "3  High fuel prices hit BA's profits\\n\\nBritish A...  business\n",
              "4  Pernod takeover talk lifts Domecq\\n\\nShares in...  business"
            ],
            "text/html": [
              "\n",
              "  <div id=\"df-9bebe190-1845-4e5e-a307-05a54ed9e9fb\">\n",
              "    <div class=\"colab-df-container\">\n",
              "      <div>\n",
              "<style scoped>\n",
              "    .dataframe tbody tr th:only-of-type {\n",
              "        vertical-align: middle;\n",
              "    }\n",
              "\n",
              "    .dataframe tbody tr th {\n",
              "        vertical-align: top;\n",
              "    }\n",
              "\n",
              "    .dataframe thead th {\n",
              "        text-align: right;\n",
              "    }\n",
              "</style>\n",
              "<table border=\"1\" class=\"dataframe\">\n",
              "  <thead>\n",
              "    <tr style=\"text-align: right;\">\n",
              "      <th></th>\n",
              "      <th>text</th>\n",
              "      <th>labels</th>\n",
              "    </tr>\n",
              "  </thead>\n",
              "  <tbody>\n",
              "    <tr>\n",
              "      <th>0</th>\n",
              "      <td>Ad sales boost Time Warner profit\\n\\nQuarterly...</td>\n",
              "      <td>business</td>\n",
              "    </tr>\n",
              "    <tr>\n",
              "      <th>1</th>\n",
              "      <td>Dollar gains on Greenspan speech\\n\\nThe dollar...</td>\n",
              "      <td>business</td>\n",
              "    </tr>\n",
              "    <tr>\n",
              "      <th>2</th>\n",
              "      <td>Yukos unit buyer faces loan claim\\n\\nThe owner...</td>\n",
              "      <td>business</td>\n",
              "    </tr>\n",
              "    <tr>\n",
              "      <th>3</th>\n",
              "      <td>High fuel prices hit BA's profits\\n\\nBritish A...</td>\n",
              "      <td>business</td>\n",
              "    </tr>\n",
              "    <tr>\n",
              "      <th>4</th>\n",
              "      <td>Pernod takeover talk lifts Domecq\\n\\nShares in...</td>\n",
              "      <td>business</td>\n",
              "    </tr>\n",
              "  </tbody>\n",
              "</table>\n",
              "</div>\n",
              "      <button class=\"colab-df-convert\" onclick=\"convertToInteractive('df-9bebe190-1845-4e5e-a307-05a54ed9e9fb')\"\n",
              "              title=\"Convert this dataframe to an interactive table.\"\n",
              "              style=\"display:none;\">\n",
              "        \n",
              "  <svg xmlns=\"http://www.w3.org/2000/svg\" height=\"24px\"viewBox=\"0 0 24 24\"\n",
              "       width=\"24px\">\n",
              "    <path d=\"M0 0h24v24H0V0z\" fill=\"none\"/>\n",
              "    <path d=\"M18.56 5.44l.94 2.06.94-2.06 2.06-.94-2.06-.94-.94-2.06-.94 2.06-2.06.94zm-11 1L8.5 8.5l.94-2.06 2.06-.94-2.06-.94L8.5 2.5l-.94 2.06-2.06.94zm10 10l.94 2.06.94-2.06 2.06-.94-2.06-.94-.94-2.06-.94 2.06-2.06.94z\"/><path d=\"M17.41 7.96l-1.37-1.37c-.4-.4-.92-.59-1.43-.59-.52 0-1.04.2-1.43.59L10.3 9.45l-7.72 7.72c-.78.78-.78 2.05 0 2.83L4 21.41c.39.39.9.59 1.41.59.51 0 1.02-.2 1.41-.59l7.78-7.78 2.81-2.81c.8-.78.8-2.07 0-2.86zM5.41 20L4 18.59l7.72-7.72 1.47 1.35L5.41 20z\"/>\n",
              "  </svg>\n",
              "      </button>\n",
              "      \n",
              "  <style>\n",
              "    .colab-df-container {\n",
              "      display:flex;\n",
              "      flex-wrap:wrap;\n",
              "      gap: 12px;\n",
              "    }\n",
              "\n",
              "    .colab-df-convert {\n",
              "      background-color: #E8F0FE;\n",
              "      border: none;\n",
              "      border-radius: 50%;\n",
              "      cursor: pointer;\n",
              "      display: none;\n",
              "      fill: #1967D2;\n",
              "      height: 32px;\n",
              "      padding: 0 0 0 0;\n",
              "      width: 32px;\n",
              "    }\n",
              "\n",
              "    .colab-df-convert:hover {\n",
              "      background-color: #E2EBFA;\n",
              "      box-shadow: 0px 1px 2px rgba(60, 64, 67, 0.3), 0px 1px 3px 1px rgba(60, 64, 67, 0.15);\n",
              "      fill: #174EA6;\n",
              "    }\n",
              "\n",
              "    [theme=dark] .colab-df-convert {\n",
              "      background-color: #3B4455;\n",
              "      fill: #D2E3FC;\n",
              "    }\n",
              "\n",
              "    [theme=dark] .colab-df-convert:hover {\n",
              "      background-color: #434B5C;\n",
              "      box-shadow: 0px 1px 3px 1px rgba(0, 0, 0, 0.15);\n",
              "      filter: drop-shadow(0px 1px 2px rgba(0, 0, 0, 0.3));\n",
              "      fill: #FFFFFF;\n",
              "    }\n",
              "  </style>\n",
              "\n",
              "      <script>\n",
              "        const buttonEl =\n",
              "          document.querySelector('#df-9bebe190-1845-4e5e-a307-05a54ed9e9fb button.colab-df-convert');\n",
              "        buttonEl.style.display =\n",
              "          google.colab.kernel.accessAllowed ? 'block' : 'none';\n",
              "\n",
              "        async function convertToInteractive(key) {\n",
              "          const element = document.querySelector('#df-9bebe190-1845-4e5e-a307-05a54ed9e9fb');\n",
              "          const dataTable =\n",
              "            await google.colab.kernel.invokeFunction('convertToInteractive',\n",
              "                                                     [key], {});\n",
              "          if (!dataTable) return;\n",
              "\n",
              "          const docLinkHtml = 'Like what you see? Visit the ' +\n",
              "            '<a target=\"_blank\" href=https://colab.research.google.com/notebooks/data_table.ipynb>data table notebook</a>'\n",
              "            + ' to learn more about interactive tables.';\n",
              "          element.innerHTML = '';\n",
              "          dataTable['output_type'] = 'display_data';\n",
              "          await google.colab.output.renderOutput(dataTable, element);\n",
              "          const docLink = document.createElement('div');\n",
              "          docLink.innerHTML = docLinkHtml;\n",
              "          element.appendChild(docLink);\n",
              "        }\n",
              "      </script>\n",
              "    </div>\n",
              "  </div>\n",
              "  "
            ]
          },
          "metadata": {},
          "execution_count": 5
        }
      ]
    },
    {
      "cell_type": "code",
      "source": [
        "df=df[df.labels=='business']['text']"
      ],
      "metadata": {
        "id": "bQqkgkFara8F"
      },
      "execution_count": 9,
      "outputs": []
    },
    {
      "cell_type": "code",
      "source": [
        "string.punctuation"
      ],
      "metadata": {
        "colab": {
          "base_uri": "https://localhost:8080/",
          "height": 36
        },
        "id": "XwTZF86btLgt",
        "outputId": "42ea12ae-5ada-4ca4-900a-fd75331b35a5"
      },
      "execution_count": 26,
      "outputs": [
        {
          "output_type": "execute_result",
          "data": {
            "text/plain": [
              "'!\"#$%&\\'()*+,-./:;<=>?@[\\\\]^_`{|}~'"
            ],
            "application/vnd.google.colaboratory.intrinsic+json": {
              "type": "string"
            }
          },
          "metadata": {},
          "execution_count": 26
        }
      ]
    },
    {
      "cell_type": "code",
      "source": [
        "del len"
      ],
      "metadata": {
        "id": "buoKr-4T83c-"
      },
      "execution_count": 148,
      "outputs": []
    },
    {
      "cell_type": "code",
      "source": [
        "def preprocess(x):\n",
        "  x=x.lower()\n",
        "  x=re.sub('''[!#$%&'()*+,-./:;<\"=>?@[\\]^_`{|}~]''','',x)\n",
        "  x=[word for word in x.split(' ') if not any(x.isdigit() for c in word)]\n",
        "  x=[word for word in x if word not in stopwords.words('english')]\n",
        "  return ' '.join(x).strip()"
      ],
      "metadata": {
        "id": "lLpejCG-s7zU"
      },
      "execution_count": 51,
      "outputs": []
    },
    {
      "cell_type": "code",
      "source": [
        "df.head()"
      ],
      "metadata": {
        "colab": {
          "base_uri": "https://localhost:8080/"
        },
        "id": "ebQDKIg0tp42",
        "outputId": "566ea1cd-05f7-48d2-caa7-fec45280d620"
      },
      "execution_count": 30,
      "outputs": [
        {
          "output_type": "execute_result",
          "data": {
            "text/plain": [
              "0    Ad sales boost Time Warner profit\\n\\nQuarterly...\n",
              "1    Dollar gains on Greenspan speech\\n\\nThe dollar...\n",
              "2    Yukos unit buyer faces loan claim\\n\\nThe owner...\n",
              "3    High fuel prices hit BA's profits\\n\\nBritish A...\n",
              "4    Pernod takeover talk lifts Domecq\\n\\nShares in...\n",
              "Name: text, dtype: object"
            ]
          },
          "metadata": {},
          "execution_count": 30
        }
      ]
    },
    {
      "cell_type": "code",
      "source": [
        "df.iloc[10]"
      ],
      "metadata": {
        "colab": {
          "base_uri": "https://localhost:8080/",
          "height": 216
        },
        "id": "MzxMup4tsNGC",
        "outputId": "0b1e2bca-1344-4170-8c9e-9b31233af3cd"
      },
      "execution_count": 14,
      "outputs": [
        {
          "output_type": "execute_result",
          "data": {
            "text/plain": [
              "\"Ask Jeeves tips online ad revival\\n\\nAsk Jeeves has become the third leading online search firm this week to thank a revival in internet advertising for improving fortunes.\\n\\nThe firm's revenue nearly tripled in the fourth quarter of 2004, exceeding $86m (£46m). Ask Jeeves, once among the best-known names on the web, is now a relatively modest player. Its $17m profit for the quarter was dwarfed by the $204m announced by rival Google earlier in the week. During the same quarter, Yahoo earned $187m, again tipping a resurgence in online advertising.\\n\\nThe trend has taken hold relatively quickly. Late last year, marketing company Doubleclick, one of the leading providers of online advertising, warned that some or all of its business would have to be put up for sale. But on Thursday, it announced that a sharp turnaround had brought about an unexpected increase in profits. Neither Ask Jeeves nor Doubleclick thrilled investors with their profit news, however. In both cases, their shares fell by some 4%. Analysts attributed the falls to excessive expectations in some quarters, fuelled by the dramatic outperformance of Google on Tuesday.\""
            ],
            "application/vnd.google.colaboratory.intrinsic+json": {
              "type": "string"
            }
          },
          "metadata": {},
          "execution_count": 14
        }
      ]
    },
    {
      "cell_type": "code",
      "source": [
        "def wrap(text):\n",
        "  return textwrap.fill(text,fix_sentence_endings=True,replace_whitespace=False)"
      ],
      "metadata": {
        "id": "NrJiqwSVrbCV"
      },
      "execution_count": 20,
      "outputs": []
    },
    {
      "cell_type": "code",
      "source": [
        "doc=df.iloc[12]"
      ],
      "metadata": {
        "id": "PrCiFnWzrbFD"
      },
      "execution_count": 126,
      "outputs": []
    },
    {
      "cell_type": "code",
      "source": [
        "wrap(doc)"
      ],
      "metadata": {
        "colab": {
          "base_uri": "https://localhost:8080/",
          "height": 216
        },
        "id": "pCEtLzXprbHp",
        "outputId": "5cdccee3-8db3-45e5-f3f5-851844969af5"
      },
      "execution_count": 127,
      "outputs": [
        {
          "output_type": "execute_result",
          "data": {
            "text/plain": [
              "\"Peugeot deal boosts Mitsubishi\\n\\nStruggling Japanese car maker\\nMitsubishi Motors has struck a deal to supply French car maker Peugeot\\nwith 30,000 sports utility vehicles (SUV).\\n\\nThe two firms signed a\\nMemorandum of Understanding, and say they expect to seal a final\\nagreement by Spring 2005. The alliance comes as a badly-needed boost\\nfor loss-making Mitsubishi, after several profit warnings and poor\\nsales.  The SUVs will be built in Japan using Peugeot's diesel engines\\nand sold mainly in the European market.  Falling sales have left\\nMitsubishi Motors with underused capacity, and the production deal\\nwith Peugeot gives it a chance to utilise some of it.\\n\\nIn January,\\nMitsubishi Motors issued its third profits warning in nine months, and\\ncut its sales forecasts for the year to March 2005. Its sales have\\nslid 41% in the past year, catalysed by the revelation that the\\ncompany had systematically been hiding records of faults and then\\nsecretly repairing vehicles.  As a result, the Japanese car maker has\\nsought a series of financial bailouts.  Last month it said it was\\nlooking for a further 540bn yen ($5.2bn; £2.77bn) in fresh financial\\nbacking, half of it from other companies in the Mitsubishi group.  US-\\nGerman carmaker DaimlerChrylser, a 30% shareholder in Mitsubishi\\nMotors, decided in April 2004 not to pump in any more money.  The deal\\nwith Peugeot was celebrated by Mitsubishi's newly-appointed chief\\nexecutive Takashi Nishioka, who took over after three top bosses stood\\ndown last month to shoulder responsibility for the firm's troubles.\\nMitsubishi Motors has forecast a net loss of 472bn yen in its current\\nfinancial year to March 2005. Last month, it signed a production\\nagreement with Japanese rival Nissan Motor to supply it with 36,000\\nsmall cars for sale in Japan.  It has been making cars for Nissan\\nsince 2003.\""
            ],
            "application/vnd.google.colaboratory.intrinsic+json": {
              "type": "string"
            }
          },
          "metadata": {},
          "execution_count": 127
        }
      ]
    },
    {
      "cell_type": "code",
      "source": [
        "sents=doc.split('\\n\\n')"
      ],
      "metadata": {
        "id": "Rmi0id5osK9f"
      },
      "execution_count": 128,
      "outputs": []
    },
    {
      "cell_type": "code",
      "source": [
        "sents"
      ],
      "metadata": {
        "colab": {
          "base_uri": "https://localhost:8080/"
        },
        "id": "uA1J5KZksLAD",
        "outputId": "584b0073-59c5-4187-bd61-760d2aa2c3f6"
      },
      "execution_count": 129,
      "outputs": [
        {
          "output_type": "execute_result",
          "data": {
            "text/plain": [
              "['Peugeot deal boosts Mitsubishi',\n",
              " 'Struggling Japanese car maker Mitsubishi Motors has struck a deal to supply French car maker Peugeot with 30,000 sports utility vehicles (SUV).',\n",
              " \"The two firms signed a Memorandum of Understanding, and say they expect to seal a final agreement by Spring 2005. The alliance comes as a badly-needed boost for loss-making Mitsubishi, after several profit warnings and poor sales. The SUVs will be built in Japan using Peugeot's diesel engines and sold mainly in the European market. Falling sales have left Mitsubishi Motors with underused capacity, and the production deal with Peugeot gives it a chance to utilise some of it.\",\n",
              " \"In January, Mitsubishi Motors issued its third profits warning in nine months, and cut its sales forecasts for the year to March 2005. Its sales have slid 41% in the past year, catalysed by the revelation that the company had systematically been hiding records of faults and then secretly repairing vehicles. As a result, the Japanese car maker has sought a series of financial bailouts. Last month it said it was looking for a further 540bn yen ($5.2bn; £2.77bn) in fresh financial backing, half of it from other companies in the Mitsubishi group. US-German carmaker DaimlerChrylser, a 30% shareholder in Mitsubishi Motors, decided in April 2004 not to pump in any more money. The deal with Peugeot was celebrated by Mitsubishi's newly-appointed chief executive Takashi Nishioka, who took over after three top bosses stood down last month to shoulder responsibility for the firm's troubles. Mitsubishi Motors has forecast a net loss of 472bn yen in its current financial year to March 2005. Last month, it signed a production agreement with Japanese rival Nissan Motor to supply it with 36,000 small cars for sale in Japan. It has been making cars for Nissan since 2003.\"]"
            ]
          },
          "metadata": {},
          "execution_count": 129
        }
      ]
    },
    {
      "cell_type": "code",
      "source": [
        "from sklearn.feature_extraction.text import TfidfVectorizer \n",
        "from sklearn.metrics.pairwise import cosine_similarity"
      ],
      "metadata": {
        "id": "qkrj_Hx4sLCi"
      },
      "execution_count": 130,
      "outputs": []
    },
    {
      "cell_type": "code",
      "source": [
        "featurizer=TfidfVectorizer(analyzer=preprocess)"
      ],
      "metadata": {
        "id": "H9VWBASysLFX"
      },
      "execution_count": 131,
      "outputs": []
    },
    {
      "cell_type": "code",
      "source": [
        "X=featurizer.fit_transform(sents)"
      ],
      "metadata": {
        "id": "CsAiEpIpsLG0"
      },
      "execution_count": 132,
      "outputs": []
    },
    {
      "cell_type": "code",
      "source": [
        "S=cosine_similarity(X)"
      ],
      "metadata": {
        "id": "Gk62GewxsLJW"
      },
      "execution_count": 133,
      "outputs": []
    },
    {
      "cell_type": "code",
      "source": [
        "S"
      ],
      "metadata": {
        "colab": {
          "base_uri": "https://localhost:8080/"
        },
        "id": "Kyx4cLq0sLLw",
        "outputId": "49542fb8-1480-4adc-fd82-94abd6df6c16"
      },
      "execution_count": 140,
      "outputs": [
        {
          "output_type": "execute_result",
          "data": {
            "text/plain": [
              "array([[0.28945261, 0.23185784, 0.24348059, 0.23520896],\n",
              "       [0.21740393, 0.27140827, 0.25215072, 0.25903708],\n",
              "       [0.2245818 , 0.24804177, 0.2669855 , 0.26039094],\n",
              "       [0.21713795, 0.25503408, 0.26061388, 0.26721409]])"
            ]
          },
          "metadata": {},
          "execution_count": 140
        }
      ]
    },
    {
      "cell_type": "code",
      "source": [
        "S/=S.sum(axis=1,keepdims=True) #normalization of similarity matrix, each row sums. to 1 S[0]=1"
      ],
      "metadata": {
        "id": "5OEeXweAsLOm"
      },
      "execution_count": 141,
      "outputs": []
    },
    {
      "cell_type": "code",
      "source": [
        "#Uniform Trans Matrix\n",
        "U=np.ones_like(S)/len(S)\n",
        "#The uniform matrix has 1/M overall where M is the doc len"
      ],
      "metadata": {
        "id": "R33LdD0psLRE"
      },
      "execution_count": 149,
      "outputs": []
    },
    {
      "cell_type": "code",
      "source": [
        "U"
      ],
      "metadata": {
        "colab": {
          "base_uri": "https://localhost:8080/"
        },
        "id": "x9jzUDGFrbKm",
        "outputId": "a19834c4-775d-41e6-be79-fab223a75a0e"
      },
      "execution_count": 150,
      "outputs": [
        {
          "output_type": "execute_result",
          "data": {
            "text/plain": [
              "array([[0.25, 0.25, 0.25, 0.25],\n",
              "       [0.25, 0.25, 0.25, 0.25],\n",
              "       [0.25, 0.25, 0.25, 0.25],\n",
              "       [0.25, 0.25, 0.25, 0.25]])"
            ]
          },
          "metadata": {},
          "execution_count": 150
        }
      ]
    },
    {
      "cell_type": "code",
      "source": [
        "from ast import USub\n",
        "#smoothing similarity matrix\n",
        "factor=.15\n",
        "A=(1-factor)*S+factor*U"
      ],
      "metadata": {
        "id": "pVhQVzi8z5RY"
      },
      "execution_count": 151,
      "outputs": []
    },
    {
      "cell_type": "code",
      "source": [
        "A"
      ],
      "metadata": {
        "colab": {
          "base_uri": "https://localhost:8080/"
        },
        "id": "nDooqDtu0RJD",
        "outputId": "bf3302f9-2d2a-4aeb-d0c5-5efeac42a982"
      },
      "execution_count": 152,
      "outputs": [
        {
          "output_type": "execute_result",
          "data": {
            "text/plain": [
              "array([[0.28353472, 0.23457916, 0.2444585 , 0.23742761],\n",
              "       [0.22229334, 0.26819703, 0.25182812, 0.25768152],\n",
              "       [0.22839453, 0.2483355 , 0.26443767, 0.2588323 ],\n",
              "       [0.22206726, 0.25427897, 0.2590218 , 0.26463197]])"
            ]
          },
          "metadata": {},
          "execution_count": 152
        }
      ]
    },
    {
      "cell_type": "code",
      "source": [
        "eigenvals,eigenvecs=np.linalg.eig(S.T)"
      ],
      "metadata": {
        "id": "Cxs2o9Kb0ZEK"
      },
      "execution_count": 153,
      "outputs": []
    },
    {
      "cell_type": "code",
      "source": [
        "eigenvals"
      ],
      "metadata": {
        "colab": {
          "base_uri": "https://localhost:8080/"
        },
        "id": "ABnOg54K0-Y4",
        "outputId": "bde1c06f-8db0-4062-8512-ce8478c42e82"
      },
      "execution_count": 154,
      "outputs": [
        {
          "output_type": "execute_result",
          "data": {
            "text/plain": [
              "array([1.        , 0.07061507, 0.00501872, 0.01942667])"
            ]
          },
          "metadata": {},
          "execution_count": 154
        }
      ]
    },
    {
      "cell_type": "code",
      "source": [
        "eigenvecs[:]"
      ],
      "metadata": {
        "colab": {
          "base_uri": "https://localhost:8080/"
        },
        "id": "v45TqAnC1Auj",
        "outputId": "21abdc31-04b9-4173-9735-2e76f8c1004b"
      },
      "execution_count": 155,
      "outputs": [
        {
          "output_type": "execute_result",
          "data": {
            "text/plain": [
              "array([[ 0.47213188,  0.8591465 , -0.06717146, -0.08034596],\n",
              "       [ 0.50352116, -0.34339335,  0.23173749, -0.75980454],\n",
              "       [ 0.51186228, -0.18389132,  0.59898226,  0.59800101],\n",
              "       [ 0.51142441, -0.33186183, -0.76354828,  0.24214949]])"
            ]
          },
          "metadata": {},
          "execution_count": 155
        }
      ]
    },
    {
      "cell_type": "code",
      "source": [
        "eigenvecs[:,0] # because np stores values as columns and not rows"
      ],
      "metadata": {
        "colab": {
          "base_uri": "https://localhost:8080/"
        },
        "id": "fEzycoUO2XHG",
        "outputId": "f112c562-5025-4752-ba6d-b2e28ffc60d4"
      },
      "execution_count": 156,
      "outputs": [
        {
          "output_type": "execute_result",
          "data": {
            "text/plain": [
              "array([0.47213188, 0.50352116, 0.51186228, 0.51142441])"
            ]
          },
          "metadata": {},
          "execution_count": 156
        }
      ]
    },
    {
      "cell_type": "code",
      "source": [
        "scores=eigenvecs[:,0]/eigenvecs[:,0].sum()"
      ],
      "metadata": {
        "id": "7OBvDcgY3JKJ"
      },
      "execution_count": 157,
      "outputs": []
    },
    {
      "cell_type": "code",
      "source": [
        "sort_idx=np.argsort(-scores)"
      ],
      "metadata": {
        "id": "bQLzJsUS4LJ7"
      },
      "execution_count": 158,
      "outputs": []
    },
    {
      "cell_type": "code",
      "source": [
        "for i in sort_idx[:5]:\n",
        "  print(wrap('%.2f: %s'%(scores[i],sents[i])))"
      ],
      "metadata": {
        "colab": {
          "base_uri": "https://localhost:8080/"
        },
        "id": "LVGCa9ZW4OM8",
        "outputId": "7260051c-5449-4a4f-9a1b-7e75a77250d0"
      },
      "execution_count": 159,
      "outputs": [
        {
          "output_type": "stream",
          "name": "stdout",
          "text": [
            "0.26: The two firms signed a Memorandum of Understanding, and say they\n",
            "expect to seal a final agreement by Spring 2005. The alliance comes as\n",
            "a badly-needed boost for loss-making Mitsubishi, after several profit\n",
            "warnings and poor sales.  The SUVs will be built in Japan using\n",
            "Peugeot's diesel engines and sold mainly in the European market.\n",
            "Falling sales have left Mitsubishi Motors with underused capacity, and\n",
            "the production deal with Peugeot gives it a chance to utilise some of\n",
            "it.\n",
            "0.26: In January, Mitsubishi Motors issued its third profits warning\n",
            "in nine months, and cut its sales forecasts for the year to March\n",
            "2005. Its sales have slid 41% in the past year, catalysed by the\n",
            "revelation that the company had systematically been hiding records of\n",
            "faults and then secretly repairing vehicles.  As a result, the\n",
            "Japanese car maker has sought a series of financial bailouts.  Last\n",
            "month it said it was looking for a further 540bn yen ($5.2bn; £2.77bn)\n",
            "in fresh financial backing, half of it from other companies in the\n",
            "Mitsubishi group.  US-German carmaker DaimlerChrylser, a 30%\n",
            "shareholder in Mitsubishi Motors, decided in April 2004 not to pump in\n",
            "any more money.  The deal with Peugeot was celebrated by Mitsubishi's\n",
            "newly-appointed chief executive Takashi Nishioka, who took over after\n",
            "three top bosses stood down last month to shoulder responsibility for\n",
            "the firm's troubles.  Mitsubishi Motors has forecast a net loss of\n",
            "472bn yen in its current financial year to March 2005. Last month, it\n",
            "signed a production agreement with Japanese rival Nissan Motor to\n",
            "supply it with 36,000 small cars for sale in Japan.  It has been\n",
            "making cars for Nissan since 2003.\n",
            "0.25: Struggling Japanese car maker Mitsubishi Motors has struck a\n",
            "deal to supply French car maker Peugeot with 30,000 sports utility\n",
            "vehicles (SUV).\n",
            "0.24: Peugeot deal boosts Mitsubishi\n"
          ]
        }
      ]
    },
    {
      "cell_type": "code",
      "source": [],
      "metadata": {
        "id": "aHh9iXCM4OPu"
      },
      "execution_count": null,
      "outputs": []
    },
    {
      "cell_type": "code",
      "source": [],
      "metadata": {
        "id": "U44j_O534OSS"
      },
      "execution_count": null,
      "outputs": []
    }
  ]
}