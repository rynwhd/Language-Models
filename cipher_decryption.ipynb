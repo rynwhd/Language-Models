{
  "nbformat": 4,
  "nbformat_minor": 0,
  "metadata": {
    "colab": {
      "provenance": [],
      "authorship_tag": "ABX9TyNSaaZQP5XuHZghCKTf4Coo",
      "include_colab_link": true
    },
    "kernelspec": {
      "name": "python3",
      "display_name": "Python 3"
    },
    "language_info": {
      "name": "python"
    }
  },
  "cells": [
    {
      "cell_type": "markdown",
      "metadata": {
        "id": "view-in-github",
        "colab_type": "text"
      },
      "source": [
        "<a href=\"https://colab.research.google.com/github/rynwhd/Language-Models/blob/main/cipher_decryption.ipynb\" target=\"_parent\"><img src=\"https://colab.research.google.com/assets/colab-badge.svg\" alt=\"Open In Colab\"/></a>"
      ]
    },
    {
      "cell_type": "code",
      "execution_count": null,
      "metadata": {
        "id": "ADkg3ioCgi7X"
      },
      "outputs": [],
      "source": [
        "#Generate a random sub cipher\n",
        "# Read in Moby Dick, create a char-level lang model\n",
        "# Encoding and Decoding Functions\n",
        "# f(message) = log likelihood\n",
        "#Genetic Algorithm "
      ]
    },
    {
      "cell_type": "code",
      "source": [
        "import string\n",
        "import regex as re\n",
        "import random\n",
        "import numpy as np\n",
        "from numpy import log \n",
        "import textwrap"
      ],
      "metadata": {
        "id": "MIHeo8px5GvM"
      },
      "execution_count": 4,
      "outputs": []
    },
    {
      "cell_type": "code",
      "source": [
        "!wget -nc https://lazyprogrammer.me/course_files/moby_dick.txt"
      ],
      "metadata": {
        "colab": {
          "base_uri": "https://localhost:8080/"
        },
        "id": "ZQUACLB21E3j",
        "outputId": "b3abe2e7-92fc-4128-ac09-a85c6211826e"
      },
      "execution_count": 5,
      "outputs": [
        {
          "output_type": "stream",
          "name": "stdout",
          "text": [
            "--2023-02-11 04:06:36--  https://lazyprogrammer.me/course_files/moby_dick.txt\n",
            "Resolving lazyprogrammer.me (lazyprogrammer.me)... 104.21.23.210, 172.67.213.166, 2606:4700:3030::ac43:d5a6, ...\n",
            "Connecting to lazyprogrammer.me (lazyprogrammer.me)|104.21.23.210|:443... connected.\n",
            "HTTP request sent, awaiting response... 200 OK\n",
            "Length: unspecified [text/plain]\n",
            "Saving to: ‘moby_dick.txt’\n",
            "\n",
            "moby_dick.txt           [    <=>             ]   1.17M  1.80MB/s    in 0.7s    \n",
            "\n",
            "2023-02-11 04:06:37 (1.80 MB/s) - ‘moby_dick.txt’ saved [1227649]\n",
            "\n"
          ]
        }
      ]
    },
    {
      "cell_type": "code",
      "source": [
        "cipher={}\n",
        "decipher={}\n",
        "letter1=list(string.ascii_lowercase)\n",
        "letter2=list(string.ascii_lowercase)\n",
        "random.shuffle(letter2)\n",
        "for i in range(26):\n",
        "  cipher[letter1[i]]=letter2[i]\n",
        "for i,v in cipher.items():\n",
        "  decipher[v]=i"
      ],
      "metadata": {
        "id": "8K008PBI1J8t"
      },
      "execution_count": 39,
      "outputs": []
    },
    {
      "cell_type": "code",
      "source": [
        "def encode(text):\n",
        "  encoded=''\n",
        "  for i in text:\n",
        "    if i!=' ':\n",
        "      encoded+=(cipher[i.lower()])\n",
        "    else:\n",
        "      encoded+=i\n",
        "  return encoded\n"
      ],
      "metadata": {
        "id": "49kdAX_-1J_M"
      },
      "execution_count": 40,
      "outputs": []
    },
    {
      "cell_type": "code",
      "source": [
        "def decode(text,map):\n",
        "  decoded=''\n",
        "  for i in text:\n",
        "    if i!=' ':\n",
        "      decoded+=map[i]\n",
        "    else:\n",
        "      decoded+=i\n",
        "  return decoded"
      ],
      "metadata": {
        "id": "oWMemkhQioLQ"
      },
      "execution_count": 41,
      "outputs": []
    },
    {
      "cell_type": "code",
      "source": [
        "unigram={}\n",
        "bigram={}"
      ],
      "metadata": {
        "id": "0ghzrVYW1KEz"
      },
      "execution_count": 42,
      "outputs": []
    },
    {
      "cell_type": "code",
      "source": [
        "text=[]\n",
        "reg=re.compile('[^a-zA-Z]')\n",
        "for line in open('moby_dick.txt'):\n",
        "  line=line.split('\\n')\n",
        "  line=line[0].lower()\n",
        "  line=line.rstrip()\n",
        "  line=reg.sub(' ',line)\n",
        "  if line:\n",
        "    text.append(line)"
      ],
      "metadata": {
        "id": "_Eh5Uqs-4eUH"
      },
      "execution_count": 43,
      "outputs": []
    },
    {
      "cell_type": "code",
      "source": [
        "for line in text:\n",
        "  tokens=line.split(' ')\n",
        "  for word in tokens:\n",
        "    for char in word:\n",
        "      unigram[char.lower()]=unigram.get(char.lower(),0.)+1\n",
        "    for i in range(len(word)-1):\n",
        "      bi=word[i].lower()+word[i+1].lower()\n",
        "      bigram[bi]=bigram.get(bi,0.)+1\n"
      ],
      "metadata": {
        "id": "YLMOiQ3w4eZn"
      },
      "execution_count": 44,
      "outputs": []
    },
    {
      "cell_type": "code",
      "source": [
        "bigram_nf={}"
      ],
      "metadata": {
        "id": "40ryjicgpbq2"
      },
      "execution_count": 45,
      "outputs": []
    },
    {
      "cell_type": "code",
      "source": [
        "#normalisation to probabilities"
      ],
      "metadata": {
        "id": "7XCQdyYfeqbV"
      },
      "execution_count": null,
      "outputs": []
    },
    {
      "cell_type": "code",
      "source": [
        "pi_len=sum(unigram.values())\n",
        "for i,v in unigram.items():\n",
        "  unigram[i]=v/pi_len"
      ],
      "metadata": {
        "id": "_M_0GR-beqdQ"
      },
      "execution_count": 46,
      "outputs": []
    },
    {
      "cell_type": "code",
      "source": [
        "bigram_len=sum(bigram.values())\n",
        "for i,v in bigram.items():\n",
        "  bigram[i]=v/bigram_len"
      ],
      "metadata": {
        "id": "3nTh3KQBeqf4"
      },
      "execution_count": 47,
      "outputs": []
    },
    {
      "cell_type": "code",
      "source": [
        "# def fit(x):\n",
        "#   if len(x)==1:\n",
        "#     return unigram[x]\n",
        "#   else:\n",
        "#     return bigram[x]"
      ],
      "metadata": {
        "id": "Q693OV6-eqiN"
      },
      "execution_count": 17,
      "outputs": []
    },
    {
      "cell_type": "code",
      "source": [
        "def word_prob(word,add_1_prob):\n",
        "  if word:\n",
        "    i=word[0]\n",
        "    logp=log(unigram[i])\n",
        "    for j in word[1:]:\n",
        "      if i+j in bigram:\n",
        "        logp+=log(bigram[i+j])\n",
        "      else:\n",
        "        bigram_nf[i+j]=bigram_nf.get(i+j,0.)+1\n",
        "        logp+=-add_1_prob\n",
        "      i=j\n",
        "    return logp\n",
        "  else:\n",
        "    return -add_1_prob"
      ],
      "metadata": {
        "id": "-JxjpbSZeqk0"
      },
      "execution_count": 104,
      "outputs": []
    },
    {
      "cell_type": "code",
      "source": [
        "def sentence_prob(sent,add_1_prob):\n",
        "  logp=0\n",
        "  for i in sent.split(' '):\n",
        "    logp+=word_prob(i,add_1_prob)\n",
        "  return logp"
      ],
      "metadata": {
        "id": "oWd-9hNoeqnL"
      },
      "execution_count": 105,
      "outputs": []
    },
    {
      "cell_type": "code",
      "source": [
        "# Using Genetic Algorithms"
      ],
      "metadata": {
        "colab": {
          "base_uri": "https://localhost:8080/"
        },
        "id": "G_fZSu8Meqpy",
        "outputId": "03d354f2-86d5-4868-df88-8f5b2a2821e6"
      },
      "execution_count": 62,
      "outputs": [
        {
          "output_type": "execute_result",
          "data": {
            "text/plain": [
              "-80.84004747025958"
            ]
          },
          "metadata": {},
          "execution_count": 62
        }
      ]
    },
    {
      "cell_type": "code",
      "source": [
        "#initialization of dna_pool"
      ],
      "metadata": {
        "id": "Uv4qPHNijjUy"
      },
      "execution_count": null,
      "outputs": []
    },
    {
      "cell_type": "code",
      "source": [
        "dna_pool=[]\n",
        "for _ in range(20):\n",
        "  dna=list(string.ascii_lowercase)\n",
        "  random.shuffle(dna)\n",
        "  dna_pool.append(dna)"
      ],
      "metadata": {
        "id": "SbZi8LSijjXQ"
      },
      "execution_count": 50,
      "outputs": []
    },
    {
      "cell_type": "code",
      "source": [
        "def evolve_offspring(dna_pool,n_children):\n",
        "  offspring=[] #list to collect offsprings\n",
        "  for dna in dna_pool:\n",
        "    for i in range(n_children):\n",
        "      copy=dna.copy()\n",
        "      j=np.random.randint(len(copy))\n",
        "      k=np.random.randint(len(copy))\n",
        "      copy[j],copy[k]=copy[k],copy[j]\n",
        "      offspring.append(copy)\n",
        "  return offspring+dna_pool"
      ],
      "metadata": {
        "id": "gwB0A3abjjb6"
      },
      "execution_count": 51,
      "outputs": []
    },
    {
      "cell_type": "code",
      "source": [
        "txt=\"I then lounged down the street and found, as I expected, that there was a mews in a lane which runs downby one wall of the garden. I lent the ostlers a hand in rubbingdown their horses, and received in exchange twopence, a glass ofhalf-and-half, two fills of shag tobacco, and as much informationas I could desire about Miss Adler, to say nothing of half a dozenother people in the neighbourhood in whom I was not in the leastinterested, but whose biographies I was compelled to listen to.\"\n",
        "txt=reg.sub(' ',txt).lower()\n",
        "encoded_message=encode(txt)\n"
      ],
      "metadata": {
        "id": "y3RA5_RlnVmL"
      },
      "execution_count": 52,
      "outputs": []
    },
    {
      "cell_type": "code",
      "source": [
        "num_iters=1000\n",
        "scores=np.zeros(num_iters)\n",
        "best_dna=None\n",
        "best_map=None\n",
        "best_score=float('-inf')\n",
        "for i in range(num_iters):\n",
        "  if i>0:\n",
        "    dna_pool=evolve_offspring(dna_pool,10)\n",
        "  dna2score={}\n",
        "  for dna in dna_pool:\n",
        "    current_map={}\n",
        "    for k,v in zip(letter1,dna): #zip() creates a tuple mapping i.e for we map letter to every alphabet in dna string\n",
        "      current_map[k]=v\n",
        "    decoded_message=decode(encoded_message,current_map)\n",
        "    score=sentence_prob(decoded_message)\n",
        "    dna2score[''.join(dna)]=score\n",
        "    if score > best_score:\n",
        "      best_dna=dna\n",
        "      best_map=current_map\n",
        "      best_score=score\n",
        "  scores[i]=np.mean(list(dna2score.values()))\n",
        "  sorted_dna=sorted(dna2score.items(),key=lambda x:x[1],reverse=True)\n",
        "  dna_pool=[list(k) for k,v in sorted_dna[:5]]\n",
        "  if i%200==0:\n",
        "    print('iter: ',i,' score:',scores[i],' best so far:',best_score)"
      ],
      "metadata": {
        "id": "qWyxdnSukPHy"
      },
      "execution_count": 114,
      "outputs": []
    },
    {
      "cell_type": "code",
      "source": [
        "d=decode(encoded_message,best_map)"
      ],
      "metadata": {
        "id": "BiS6Hb5PlRby"
      },
      "execution_count": 119,
      "outputs": []
    },
    {
      "cell_type": "code",
      "source": [
        "correct=0\n",
        "incorrect=0\n",
        "pred=0\n",
        "mapping={}\n",
        "for i in range(len(txt)):\n",
        "  if d[i]==' ':\n",
        "    pred+=1\n",
        "    continue\n",
        "  if d[i]==txt[i]:\n",
        "    correct+=1\n",
        "  else:\n",
        "    mapping[d[i]]=txt[i]\n",
        "    incorrect+=1"
      ],
      "metadata": {
        "id": "pGxdb1ehCnOw"
      },
      "execution_count": 120,
      "outputs": []
    },
    {
      "cell_type": "code",
      "source": [
        "acc=correct/(len(txt)-pred)"
      ],
      "metadata": {
        "id": "UxvMrB0lC4_c"
      },
      "execution_count": 85,
      "outputs": []
    },
    {
      "cell_type": "code",
      "source": [
        "acc"
      ],
      "metadata": {
        "id": "FJvYr_DCDrFJ"
      },
      "execution_count": 100,
      "outputs": []
    },
    {
      "cell_type": "code",
      "source": [
        "encoded_message"
      ],
      "metadata": {
        "id": "4sgx2o_qzqv-"
      },
      "execution_count": 99,
      "outputs": []
    },
    {
      "cell_type": "code",
      "source": [
        "d"
      ],
      "metadata": {
        "colab": {
          "base_uri": "https://localhost:8080/",
          "height": 104
        },
        "id": "U9-Y-J6ssU8W",
        "outputId": "52d71521-f40f-4937-e182-f7d6a87a96d7"
      },
      "execution_count": 101,
      "outputs": [
        {
          "output_type": "execute_result",
          "data": {
            "text/plain": [
              "'i then lounged down the street and found  as i expected  that there was a mews in a lane which runs downby one wall of the garden  i lent the ostlers a hand in rubbingdown their horses  and received in exchange twopence  a glass ofhalf and half  two fills of shag tobacco  and as much informationas i could desire about miss adler  to say nothing of half a dokenother people in the neighbourhood in whom i was not in the leastinterested  but whose biographies i was compelled to listen to '"
            ],
            "application/vnd.google.colaboratory.intrinsic+json": {
              "type": "string"
            }
          },
          "metadata": {},
          "execution_count": 101
        }
      ]
    },
    {
      "cell_type": "code",
      "source": [
        "txt"
      ],
      "metadata": {
        "colab": {
          "base_uri": "https://localhost:8080/",
          "height": 104
        },
        "id": "T4p3OsFjs1Dk",
        "outputId": "3d4c745b-2027-4565-f545-ce319e958a82"
      },
      "execution_count": 102,
      "outputs": [
        {
          "output_type": "execute_result",
          "data": {
            "text/plain": [
              "'i then lounged down the street and found  as i expected  that there was a mews in a lane which runs downby one wall of the garden  i lent the ostlers a hand in rubbingdown their horses  and received in exchange twopence  a glass ofhalf and half  two fills of shag tobacco  and as much informationas i could desire about miss adler  to say nothing of half a dozenother people in the neighbourhood in whom i was not in the leastinterested  but whose biographies i was compelled to listen to '"
            ],
            "application/vnd.google.colaboratory.intrinsic+json": {
              "type": "string"
            }
          },
          "metadata": {},
          "execution_count": 102
        }
      ]
    }
  ]
}